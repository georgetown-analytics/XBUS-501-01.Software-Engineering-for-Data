{
 "cells": [
  {
   "cell_type": "markdown",
   "metadata": {},
   "source": [
    "# Student Exam Performance Workshop\n",
    "Use Python's pandas module to load a dataset containing student demographic information and test scores and find relationships between student attributes and test scores. This workshop will serve as an introduction to pandas and will allow students to practice the following skills: \n",
    "\n",
    "- Load a csv into a pandas DataFrame and examine summary statistics\n",
    "- Rename DataFrame column names\n",
    "- Add columns to a DataFrame\n",
    "- Change values in DataFrame rows\n",
    "- Analyze relationships between categorical features and test scores\n",
    "\n",
    "**Bonus:**\n",
    "\n",
    "Determine the relationship between the students' lunch classification and average test scores by creating a seaborn boxplot"
   ]
  },
  {
   "cell_type": "code",
   "execution_count": 15,
   "metadata": {},
   "outputs": [],
   "source": [
    "# Import the python modules that we will need to use\n",
    "import pandas as pd\n",
    "import numpy as np\n",
    "import matplotlib.pyplot as plt"
   ]
  },
  {
   "cell_type": "code",
   "execution_count": 16,
   "metadata": {},
   "outputs": [],
   "source": [
    "def load_data(path):\n",
    "    df = pd.read_csv(path)\n",
    "    return df"
   ]
  },
  {
   "cell_type": "markdown",
   "metadata": {},
   "source": [
    "Use the `load_data` function to load the StudentsPerformance.csv file into a pandas dataframe variable called `df`\n",
    "\n",
    "__Hint__: Keep in mind where the csv file is in relation to this Jupyter Notebook. Do you need to provide an absolute or relative file path?"
   ]
  },
  {
   "cell_type": "code",
   "execution_count": 10,
   "metadata": {},
   "outputs": [],
   "source": [
    "#Write python to call the function above and load the StudentPeformance csv file into a pandas dataframe\n",
    "\n",
    "\n",
    "#Keep this line so you can see the first five rows of your dataframe once you have loaded it!\n",
    "df.head(5)"
   ]
  },
  {
   "cell_type": "markdown",
   "metadata": {},
   "source": [
    "__Next step:__ Now that we have loaded our DataFrame, let's look at the summary statistics of our data. We can use the `describe` method to accomplish this:"
   ]
  },
  {
   "cell_type": "code",
   "execution_count": 11,
   "metadata": {},
   "outputs": [],
   "source": [
    "df.describe(include='all')"
   ]
  },
  {
   "cell_type": "markdown",
   "metadata": {},
   "source": [
    "By looking at this breakdown of our dataset, I can make at least the following observations:\n",
    "\n",
    "1. Our DataFrame consists of eight columns, three of which are student test scores.\n",
    "2. There are no missing any values in our DataFrame!\n",
    "3. The data appears to be pretty evenly distributed.\n",
    "4. The column names are long and difficult to type\n",
    "\n",
    "## Renaming DataFrame Columns\n",
    "\n",
    "Let's change our column names so they are easier to work with!\n",
    "\n",
    "__Hint__: Look into the pandas `columns` attribute to make the change!"
   ]
  },
  {
   "cell_type": "code",
   "execution_count": 19,
   "metadata": {},
   "outputs": [],
   "source": [
    "columns = 'gender', 'race', 'parentDegree', 'lunchStatus', 'courseCompletion', 'mathScore', 'readingScore', 'writingScore'"
   ]
  },
  {
   "cell_type": "code",
   "execution_count": 20,
   "metadata": {},
   "outputs": [],
   "source": [
    "def renameColumns(df, columns):\n",
    "    df.columns=columns\n",
    "    return df"
   ]
  },
  {
   "cell_type": "code",
   "execution_count": 12,
   "metadata": {},
   "outputs": [],
   "source": [
    "#Use the above function to rename the DataFrame's column names\n",
    "\n",
    "\n",
    "df.head(10) #Look at the first ten rows of the DataFrame to ensure the renaming worked!"
   ]
  },
  {
   "cell_type": "markdown",
   "metadata": {},
   "source": [
    "## Adding Columns to a DataFrame\n",
    "\n",
    "Great! Next we want to add an `avgScore` column that is an average of the three given test scores (`mathScore`, `readingScore` and `writingScore`). This will allow us to generalize the students' performance and simplify the process of us examining our feature's impact on student performance.  "
   ]
  },
  {
   "cell_type": "code",
   "execution_count": 2,
   "metadata": {},
   "outputs": [],
   "source": [
    "#Complete the following line of code to create an avgScore column\n",
    "df['avgScore'] = \n",
    "df.head(5)"
   ]
  },
  {
   "cell_type": "markdown",
   "metadata": {},
   "source": [
    "## Analyzing Feature Relationships\n",
    "Now that our data is looking the way we want, let's examine how some of our features correlate with students' test performances. We will start by looking at the relationship between race and parent degree status on test scores.\n",
    "\n",
    "__Hint__: Use pandas' `groupby` method to examine these relationships. The documentation for `groupby` can be found here: https://pandas.pydata.org/pandas-docs/version/0.22/generated/pandas.DataFrame.groupby.html"
   ]
  },
  {
   "cell_type": "code",
   "execution_count": 3,
   "metadata": {},
   "outputs": [],
   "source": [
    "df.groupby(['race','parentDegree']).mean()"
   ]
  },
  {
   "cell_type": "markdown",
   "metadata": {},
   "source": [
    "From examining the above output, we can see that across all `race` groups, students with \"high school\" and \"some high school\" as their parent degree status (`parentDegree`) had lower test scores. \n",
    "\n",
    "__Next step__: Since there seems to be a clear distinction between students that have parents with have some college education and those that do not, let's simplify our DataFrame by creating a `degreeBinary` column based on values in the `parentDegree` column. This new column will simply contain either \"no_degree\" or \"has_degree.\" We can do this by writing a basic function and using pandas' `apply` method:"
   ]
  },
  {
   "cell_type": "code",
   "execution_count": 2,
   "metadata": {},
   "outputs": [],
   "source": [
    "#Complete this function to return the proper strings to denote degree status\n",
    "\n",
    "def degree_status(edu):\n",
    "    if edu in {'high school', 'some high school'}:\n",
    "        #Fill in your code here!\n",
    "\n",
    "df['degreeBinary'] = df['parentDegree'].apply(degree_status)\n",
    "df.head(10)"
   ]
  },
  {
   "cell_type": "markdown",
   "metadata": {},
   "source": [
    "Great job! Now let's continue examining our features to find relationships in our data\n",
    "\n",
    "__Your turn:__ Use the `groupby` function again examine relationships between other features and student test scores. What can we learn about the relationship between these whether or not the students have completed the course and their test scores? What about the relationship between gender and test scores?"
   ]
  },
  {
   "cell_type": "code",
   "execution_count": 5,
   "metadata": {},
   "outputs": [],
   "source": [
    "##Use groupby to examine the relationship between course completion status and test scores"
   ]
  },
  {
   "cell_type": "code",
   "execution_count": 6,
   "metadata": {},
   "outputs": [],
   "source": [
    "##Use groupby to examine the relationship between gender and test scores"
   ]
  },
  {
   "cell_type": "markdown",
   "metadata": {},
   "source": [
    "## Bonus: Visualization\n",
    "\n",
    "Great job making it this far! As a bonus exercise, we will create a simple data visualization. We have examined the relationship between all of our features and student test scores except for one -- student lunch status, which is found in the `lunch` column.\n",
    "\n",
    "In order to explore this relationship, let's create a `barplot`, with the students'`lunch` status as the x-axis and their average test scores (`avgScore`) as the y-axis.\n",
    "\n",
    "We will use seaborn, which is a third-party library, to complete this visualization. If you do not already have seaborn installed, `pip install` it now! Follow the seaborn documentation to create the `barplot` in the cell below."
   ]
  },
  {
   "cell_type": "code",
   "execution_count": 8,
   "metadata": {},
   "outputs": [],
   "source": [
    "import seaborn as sns #import the seaborn module\n",
    "\n",
    "sns.set(style='whitegrid')\n",
    "    \n",
    "def graph_data(data, xkey='lunchStatus', ykey='avgScore'):\n",
    "    #Fill this in to create the barplot!\n",
    "    \n",
    "graph_data(df)"
   ]
  },
  {
   "cell_type": "code",
   "execution_count": null,
   "metadata": {},
   "outputs": [],
   "source": []
  }
 ],
 "metadata": {
  "kernelspec": {
   "display_name": "Python 3",
   "language": "python",
   "name": "python3"
  },
  "language_info": {
   "codemirror_mode": {
    "name": "ipython",
    "version": 3
   },
   "file_extension": ".py",
   "mimetype": "text/x-python",
   "name": "python",
   "nbconvert_exporter": "python",
   "pygments_lexer": "ipython3",
   "version": "3.7.1"
  }
 },
 "nbformat": 4,
 "nbformat_minor": 2
}
