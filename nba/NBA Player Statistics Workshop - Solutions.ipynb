{
 "cells": [
  {
   "cell_type": "markdown",
   "metadata": {},
   "source": [
    "# NBA Player Statistics Workshop - Solutions\n",
    "\n",
    "Given a dataset of NBA players performance and salary in 2014, use Python to load the dataset and compute the summary statistics for the `SALARY` field:\n",
    "\n",
    "- mean\n",
    "- median\n",
    "- mode\n",
    "- minimum\n",
    "- maximum\n",
    "\n",
    "You will need to make use of the csv module to load the data and interact with it. Computations should require only simple arithmetic. (For the purposes of this exercise, attempt to use pure Python and no third party dependencies like Pandas - you can then compare and contrast the use of Pandas for this task later). \n",
    "\n",
    "**Bonus:**\n",
    "\n",
    "Determine the relationship of PER (Player Efficiency Rating) to Salary via a visualization of the data.\n",
    "\n",
    "\n",
    "NBA 2014 Players Dataset: [http://bit.ly/2n9twqX](http://bit.ly/2n9twqX)"
   ]
  },
  {
   "cell_type": "code",
   "execution_count": 1,
   "metadata": {
    "collapsed": true
   },
   "outputs": [],
   "source": [
    "# Imports\n",
    "\n",
    "import os\n",
    "import csv\n",
    "import json\n",
    "\n",
    "from collections import Counter\n",
    "from operator import itemgetter\n",
    "from requests import get"
   ]
  },
  {
   "cell_type": "markdown",
   "metadata": {},
   "source": [
    "## Fetching the Data\n",
    "\n",
    "You have a couple of options of fetching the data set to begin your analysis:\n",
    "\n",
    "1. Click on the link above and Download the file. \n",
    "2. Write a Python function that automatically downloads the data as a comma-separated value file (CSV) and writes it to disk. \n",
    "\n",
    "In either case, you'll have to be cognizant of where the CSV file lands. Here is a quick implementation of a function to download a URL at a file and write it to disk. Note the many approaches to do this as outlined here: [How do I download a file over HTTP using Python?](http://stackoverflow.com/questions/22676/how-do-i-download-a-file-over-http-using-python). "
   ]
  },
  {
   "cell_type": "code",
   "execution_count": 2,
   "metadata": {
    "collapsed": true
   },
   "outputs": [],
   "source": [
    "def download(url, path):\n",
    "    \"\"\"\n",
    "    Downloads a URL and writes it to the specified path. The \"path\" \n",
    "    is like the mailing address for the file - it tells the function \n",
    "    where on your computer to send it!\n",
    "    \n",
    "    Also note the use of \"with\" to automatically close files - this \n",
    "    is a good standard practice to follow.\n",
    "    \"\"\"\n",
    "    with open(path,'wb') as f:\n",
    "        response = get(url)\n",
    "        f.write(response.content)"
   ]
  },
  {
   "cell_type": "markdown",
   "metadata": {},
   "source": [
    "**Your turn: use the above function to download the data!**"
   ]
  },
  {
   "cell_type": "code",
   "execution_count": 3,
   "metadata": {
    "collapsed": true
   },
   "outputs": [],
   "source": [
    "## Write the Python to execute the function and download the file here:\n",
    "download('http://bit.ly/2n9twqX', 'nba_players.csv') # Whatever your path is"
   ]
  },
  {
   "cell_type": "markdown",
   "metadata": {},
   "source": [
    "## Loading the Data\n",
    "\n",
    "Now that we have the CSV file that we're looking for, we need to be able to open the file and read it into memory. The trick is that we want to read only a single line at a time - consider really large CSV files. Python provides memory efficient iteration in the form of `generators` and the `csv.reader` module exposes one such generator, that reads the data from the CSV one row at a time. Moreover, we also want to parse our data so that we have specific access to the fields we're looking for. The `csv.DictReader` class will give you each row as a dictionary, where the keys are derived from the first, header line of the file. \n",
    "\n",
    "Here is a function that reads data from disk one line at a time and `yield`s it to the user. "
   ]
  },
  {
   "cell_type": "code",
   "execution_count": 4,
   "metadata": {
    "collapsed": true
   },
   "outputs": [],
   "source": [
    "def read_csv(path):\n",
    "    # First open the file\n",
    "    with open(path, 'rt') as f:\n",
    "        # Create a DictReader to parse the CSV\n",
    "        reader = csv.DictReader(f)\n",
    "        for row in reader:\n",
    "            # HINT: Convert SALARY column values into integers & PER column into floats.\n",
    "            # Otherwise CSVs can turn ints into strs! You'll thank me later :D\n",
    "            row['SALARY'] = int(row['SALARY'])\n",
    "            row['PER'] = float(row['PER'])\n",
    "            # Now yield each row one at a time.\n",
    "            yield row"
   ]
  },
  {
   "cell_type": "markdown",
   "metadata": {},
   "source": [
    "**Your turn: use the above function to open the file and print out the first row of the CSV!**\n",
    "\n",
    "To do this, you'll need to do three things:\n",
    "\n",
    "First, remember where you told the `download` function to store your file? Pass that same path into `read_csv`:"
   ]
  },
  {
   "cell_type": "code",
   "execution_count": 5,
   "metadata": {
    "collapsed": true
   },
   "outputs": [],
   "source": [
    "## Write the Python to execute our read_csv function.\n",
    "x = read_csv('fixtures/nba_players.csv') # Whatever your path is"
   ]
  },
  {
   "cell_type": "markdown",
   "metadata": {},
   "source": [
    "Next step: The `read_csv` function \"returns\" a generator. How can we access just the first row? Remember [how to access the next row of a generator](http://stackoverflow.com/questions/4741243/how-to-pick-just-one-item-from-a-generator-in-python)? "
   ]
  },
  {
   "cell_type": "code",
   "execution_count": 6,
   "metadata": {},
   "outputs": [
    {
     "name": "stdout",
     "output_type": "stream",
     "text": [
      "OrderedDict([('PLAYER', 'Kevin Durant'), ('TEAM', ' OKC'), ('POS', 'SF'), ('GP', '81'), ('MPG', '38.5'), ('TS%', '0.635'), ('AST', '16.1'), ('TO', '10.3'), ('USG', '31.2'), ('ORR', '2.2'), ('DRR', '18.6'), ('REBR', '10.8'), ('PER', 29.9), ('VA', '903.8'), ('EWA', '30.1'), ('AGE', '25'), ('HT', '81'), ('WT', '240'), ('SALARY', 18995624)])\n"
     ]
    }
   ],
   "source": [
    "## Now write the Python to print the first row of the CSV here.\n",
    "print(next(x))"
   ]
  },
  {
   "cell_type": "markdown",
   "metadata": {},
   "source": [
    "Are there different ways to print the first _n_ rows of something? Sure! Try using break, which will stop a for loop from running. E.g. the code:\n",
    "\n",
    "```python\n",
    "for idx in xrange(100):\n",
    "    if idx > 10:\n",
    "        break\n",
    "```\n",
    "\n",
    "...will stop the for loop after 10 iterations."
   ]
  },
  {
   "cell_type": "markdown",
   "metadata": {},
   "source": [
    "Next, write a `for` loop that can access and print every row."
   ]
  },
  {
   "cell_type": "code",
   "execution_count": 7,
   "metadata": {},
   "outputs": [
    {
     "name": "stdout",
     "output_type": "stream",
     "text": [
      "OrderedDict([('PLAYER', 'Kevin Love'), ('TEAM', ' MIN'), ('POS', 'PF'), ('GP', '77'), ('MPG', '36.3'), ('TS%', '0.591'), ('AST', '15.2'), ('TO', '8.7'), ('USG', '27.7'), ('ORR', '8.5'), ('DRR', '29.5'), ('REBR', '18.7'), ('PER', 26.97), ('VA', '645.8'), ('EWA', '21.5'), ('AGE', '25'), ('HT', '82'), ('WT', '243'), ('SALARY', 15719063)])\n",
      "OrderedDict([('PLAYER', 'DeMarcus Cousins'), ('TEAM', ' SAC'), ('POS', 'C'), ('GP', '71'), ('MPG', '32.4'), ('TS%', '0.555'), ('AST', '10.8'), ('TO', '13.1'), ('USG', '30.7'), ('ORR', '10.6'), ('DRR', '30.5'), ('REBR', '20.4'), ('PER', 26.18), ('VA', '534.5'), ('EWA', '17.8'), ('AGE', '24'), ('HT', '83'), ('WT', '270'), ('SALARY', 14746000)])\n",
      "OrderedDict([('PLAYER', 'Brook Lopez'), ('TEAM', ' BKN'), ('POS', 'C'), ('GP', '17'), ('MPG', '31.4'), ('TS%', '0.629'), ('AST', '4.9'), ('TO', '8.7'), ('USG', '24.1'), ('ORR', '8.8'), ('DRR', '14.1'), ('REBR', '11.5'), ('PER', 25.5), ('VA', '118.6'), ('EWA', '4'), ('AGE', '26'), ('HT', '85'), ('WT', '275'), ('SALARY', 15719062)])\n",
      "OrderedDict([('PLAYER', 'Carmelo Anthony'), ('TEAM', ' NY'), ('POS', 'SF'), ('GP', '77'), ('MPG', '38.7'), ('TS%', '0.561'), ('AST', '10.4'), ('TO', '8.5'), ('USG', '30.1'), ('ORR', '5.6'), ('DRR', '19.4'), ('REBR', '12.3'), ('PER', 24.5), ('VA', '623'), ('EWA', '20.8'), ('AGE', '30'), ('HT', '80'), ('WT', '235'), ('SALARY', 22458401)])\n",
      "OrderedDict([('PLAYER', 'Blake Griffin'), ('TEAM', ' LAC'), ('POS', 'PF'), ('GP', '80'), ('MPG', '35.8'), ('TS%', '0.583'), ('AST', '14.1'), ('TO', '10.2'), ('USG', '27.1'), ('ORR', '7.7'), ('DRR', '21.2'), ('REBR', '14.7'), ('PER', 23.98), ('VA', '533.3'), ('EWA', '17.8'), ('AGE', '25'), ('HT', '82'), ('WT', '251'), ('SALARY', 17674613)])\n",
      "OrderedDict([('PLAYER', 'Brandan Wright'), ('TEAM', ' DAL'), ('POS', 'PF'), ('GP', '58'), ('MPG', '18.6'), ('TS%', '0.695'), ('AST', '7'), ('TO', '7.9'), ('USG', '15.8'), ('ORR', '11'), ('DRR', '15.1'), ('REBR', '13.1'), ('PER', 23.6), ('VA', '194.5'), ('EWA', '6.5'), ('AGE', '26'), ('HT', '82'), ('WT', '210'), ('SALARY', 5000000)])\n",
      "OrderedDict([('PLAYER', 'Al Jefferson'), ('TEAM', ' CHA'), ('POS', 'C'), ('GP', '73'), ('MPG', '35'), ('TS%', '0.532'), ('AST', '8.7'), ('TO', '7'), ('USG', '26.7'), ('ORR', '6.9'), ('DRR', '28.3'), ('REBR', '17.5'), ('PER', 22.75), ('VA', '462.9'), ('EWA', '15.4'), ('AGE', '29'), ('HT', '82'), ('WT', '289'), ('SALARY', 13500000)])\n",
      "OrderedDict([('PLAYER', 'Al Horford'), ('TEAM', ' ATL'), ('POS', 'C'), ('GP', '29'), ('MPG', '33'), ('TS%', '0.588'), ('AST', '12.7'), ('TO', '10.7'), ('USG', '22.7'), ('ORR', '8'), ('DRR', '21.4'), ('REBR', '14.8'), ('PER', 22.08), ('VA', '164.2'), ('EWA', '5.5'), ('AGE', '28'), ('HT', '82'), ('WT', '250'), ('SALARY', 12000000)])\n",
      "OrderedDict([('PLAYER', 'LaMarcus Aldridge'), ('TEAM', ' POR'), ('POS', 'PF'), ('GP', '69'), ('MPG', '36.2'), ('TS%', '0.507'), ('AST', '9.5'), ('TO', '6.5'), ('USG', '27.9'), ('ORR', '7.2'), ('DRR', '25.6'), ('REBR', '16.5'), ('PER', 21.84), ('VA', '385.7'), ('EWA', '12.9'), ('AGE', '29'), ('HT', '83'), ('WT', '240'), ('SALARY', 16006000)])\n",
      "OrderedDict([('PLAYER', 'Tim Duncan'), ('TEAM', ' SA'), ('POS', 'PF'), ('GP', '74'), ('MPG', '29.2'), ('TS%', '0.535'), ('AST', '15.4'), ('TO', '11.2'), ('USG', '23.5'), ('ORR', '8.6'), ('DRR', '28.3'), ('REBR', '18.8'), ('PER', 21.4), ('VA', '318.8'), ('EWA', '10.6'), ('AGE', '38'), ('HT', '83'), ('WT', '250'), ('SALARY', 10361446)])\n",
      "OrderedDict([('PLAYER', 'Nikola Pekovic'), ('TEAM', ' MIN'), ('POS', 'C'), ('GP', '54'), ('MPG', '30.8'), ('TS%', '0.582'), ('AST', '5.3'), ('TO', '8.9'), ('USG', '21.1'), ('ORR', '13.1'), ('DRR', '17.6'), ('REBR', '15.3'), ('PER', 20.72), ('VA', '251.2'), ('EWA', '8.4'), ('AGE', '28'), ('HT', '83'), ('WT', '285'), ('SALARY', 12100000)])\n",
      "OrderedDict([('PLAYER', 'Kyle Lowry'), ('TEAM', ' TOR'), ('POS', 'PG'), ('GP', '79'), ('MPG', '36.2'), ('TS%', '0.567'), ('AST', '28.9'), ('TO', '9.6'), ('USG', '23.4'), ('ORR', '3.6'), ('DRR', '11.5'), ('REBR', '7.5'), ('PER', 20.2), ('VA', '392.9'), ('EWA', '13.1'), ('AGE', '28'), ('HT', '73'), ('WT', '205'), ('SALARY', 12000000)])\n",
      "OrderedDict([('PLAYER', 'Kyrie Irving'), ('TEAM', ' CLE'), ('POS', 'PG'), ('GP', '71'), ('MPG', '35.2'), ('TS%', '0.533'), ('AST', '21.6'), ('TO', '9.5'), ('USG', '27.8'), ('ORR', '2.3'), ('DRR', '9.5'), ('REBR', '5.8'), ('PER', 20.14), ('VA', '340.4'), ('EWA', '11.3'), ('AGE', '22'), ('HT', '75'), ('WT', '193'), ('SALARY', 7070730)])\n",
      "OrderedDict([('PLAYER', 'Manu Ginobili'), ('TEAM', ' SA'), ('POS', 'SG'), ('GP', '68'), ('MPG', '22.8'), ('TS%', '0.59'), ('AST', '25.7'), ('TO', '12.2'), ('USG', '24.2'), ('ORR', '2.3'), ('DRR', '12'), ('REBR', '7.3'), ('PER', 20.06), ('VA', '221.2'), ('EWA', '7.4'), ('AGE', '37'), ('HT', '78'), ('WT', '205'), ('SALARY', 7000000)])\n",
      "OrderedDict([('PLAYER', 'Kenneth Faried'), ('TEAM', ' DEN'), ('POS', 'PF'), ('GP', '80'), ('MPG', '27.2'), ('TS%', '0.573'), ('AST', '8.1'), ('TO', '11.4'), ('USG', '19.7'), ('ORR', '11.8'), ('DRR', '22.2'), ('REBR', '16.9'), ('PER', 19.9), ('VA', '273.1'), ('EWA', '9.1'), ('AGE', '24'), ('HT', '80'), ('WT', '228'), ('SALARY', 2249768)])\n",
      "OrderedDict([('PLAYER', 'Serge Ibaka'), ('TEAM', ' OKC'), ('POS', 'PF'), ('GP', '81'), ('MPG', '32.9'), ('TS%', '0.576'), ('AST', '6.7'), ('TO', '9.7'), ('USG', '18'), ('ORR', '10'), ('DRR', '19.6'), ('REBR', '15'), ('PER', 19.66), ('VA', '324.8'), ('EWA', '10.8'), ('AGE', '24'), ('HT', '82'), ('WT', '245'), ('SALARY', 12350000)])\n",
      "OrderedDict([('PLAYER', 'John Wall'), ('TEAM', ' WSH'), ('POS', 'PG'), ('GP', '82'), ('MPG', '36.3'), ('TS%', '0.524'), ('AST', '28.5'), ('TO', '11.7'), ('USG', '27.7'), ('ORR', '1.5'), ('DRR', '11.7'), ('REBR', '6.5'), ('PER', 19.61), ('VA', '383'), ('EWA', '12.8'), ('AGE', '23'), ('HT', '76'), ('WT', '195'), ('SALARY', 14746000)])\n",
      "OrderedDict([('PLAYER', 'Jordan Hill'), ('TEAM', ' LAL'), ('POS', 'PF'), ('GP', '72'), ('MPG', '20.8'), ('TS%', '0.579'), ('AST', '7.4'), ('TO', '10.3'), ('USG', '17.6'), ('ORR', '13.8'), ('DRR', '24.3'), ('REBR', '19'), ('PER', 19.39), ('VA', '176.6'), ('EWA', '5.9'), ('AGE', '27'), ('HT', '82'), ('WT', '235'), ('SALARY', 9000000)])\n",
      "OrderedDict([('PLAYER', 'David Lee'), ('TEAM', ' GS'), ('POS', 'PF'), ('GP', '69'), ('MPG', '33.2'), ('TS%', '0.566'), ('AST', '10.4'), ('TO', '10.8'), ('USG', '22.4'), ('ORR', '8.8'), ('DRR', '21.6'), ('REBR', '15.3'), ('PER', 19.21), ('VA', '263.2'), ('EWA', '8.8'), ('AGE', '31'), ('HT', '81'), ('WT', '240'), ('SALARY', 15012000)])\n",
      "OrderedDict([('PLAYER', 'Chris Bosh'), ('TEAM', ' MIA'), ('POS', 'C'), ('GP', '79'), ('MPG', '32'), ('TS%', '0.597'), ('AST', '6.8'), ('TO', '9.7'), ('USG', '20'), ('ORR', '5.1'), ('DRR', '20.3'), ('REBR', '13'), ('PER', 19.11), ('VA', '321.5'), ('EWA', '10.7'), ('AGE', '30'), ('HT', '83'), ('WT', '235'), ('SALARY', 20644400)])\n",
      "OrderedDict([('PLAYER', 'Ty Lawson'), ('TEAM', ' DEN'), ('POS', 'PG'), ('GP', '62'), ('MPG', '35.8'), ('TS%', '0.553'), ('AST', '31.4'), ('TO', '11.6'), ('USG', '23.5'), ('ORR', '1.9'), ('DRR', '8.5'), ('REBR', '5.2'), ('PER', 19.02), ('VA', '266'), ('EWA', '8.9'), ('AGE', '26'), ('HT', '71'), ('WT', '195'), ('SALARY', 11595506)])\n",
      "OrderedDict([('PLAYER', 'Tony Parker'), ('TEAM', ' SA'), ('POS', 'PG'), ('GP', '68'), ('MPG', '29.4'), ('TS%', '0.555'), ('AST', '24.9'), ('TO', '9.7'), ('USG', '25.9'), ('ORR', '1'), ('DRR', '7.5'), ('REBR', '4.4'), ('PER', 19.0), ('VA', '238.5'), ('EWA', '7.9'), ('AGE', '32'), ('HT', '74'), ('WT', '185'), ('SALARY', 12500000)])\n",
      "OrderedDict([('PLAYER', \"Amar'e Stoudemire\"), ('TEAM', ' NY'), ('POS', 'PF'), ('GP', '65'), ('MPG', '22.6'), ('TS%', '0.596'), ('AST', '4.4'), ('TO', '11.8'), ('USG', '21.3'), ('ORR', '8.7'), ('DRR', '17.2'), ('REBR', '12.8'), ('PER', 18.89), ('VA', '161.6'), ('EWA', '5.4'), ('AGE', '31'), ('HT', '83'), ('WT', '245'), ('SALARY', 23410988)])\n",
      "OrderedDict([('PLAYER', 'Nikola Vucevic'), ('TEAM', ' ORL'), ('POS', 'C'), ('GP', '57'), ('MPG', '31.8'), ('TS%', '0.536'), ('AST', '10.7'), ('TO', '11.5'), ('USG', '20'), ('ORR', '11.5'), ('DRR', '27.6'), ('REBR', '19.5'), ('PER', 18.85), ('VA', '223'), ('EWA', '7.4'), ('AGE', '23'), ('HT', '85'), ('WT', '250'), ('SALARY', 2751260)])\n",
      "OrderedDict([('PLAYER', 'Damian Lillard'), ('TEAM', ' POR'), ('POS', 'PG'), ('GP', '82'), ('MPG', '35.8'), ('TS%', '0.568'), ('AST', '21.3'), ('TO', '9'), ('USG', '24.7'), ('ORR', '1.3'), ('DRR', '9.2'), ('REBR', '5.3'), ('PER', 18.69), ('VA', '337.1'), ('EWA', '11.2'), ('AGE', '24'), ('HT', '75'), ('WT', '195'), ('SALARY', 3340920)])\n",
      "OrderedDict([('PLAYER', 'James Johnson'), ('TEAM', ' MEM'), ('POS', 'PF'), ('GP', '52'), ('MPG', '18.4'), ('TS%', '0.552'), ('AST', '21.2'), ('TO', '12.6'), ('USG', '19.7'), ('ORR', '7.4'), ('DRR', '13.2'), ('REBR', '10.3'), ('PER', 18.5), ('VA', '99.9'), ('EWA', '3.3'), ('AGE', '27'), ('HT', '81'), ('WT', '248'), ('SALARY', 2500000)])\n",
      "OrderedDict([('PLAYER', 'Tyreke Evans'), ('TEAM', ' NO'), ('POS', 'SF'), ('GP', '72'), ('MPG', '28.2'), ('TS%', '0.504'), ('AST', '23.1'), ('TO', '11.1'), ('USG', '26.7'), ('ORR', '4.3'), ('DRR', '15.4'), ('REBR', '9.8'), ('PER', 18.43), ('VA', '239.9'), ('EWA', '8'), ('AGE', '24'), ('HT', '78'), ('WT', '220'), ('SALARY', 11265416)])\n",
      "OrderedDict([('PLAYER', 'Rudy Gay'), ('TEAM', ' SAC/TOR'), ('POS', 'SF'), ('GP', '73'), ('MPG', '34.7'), ('TS%', '0.54'), ('AST', '11.7'), ('TO', '12.6'), ('USG', '25.2'), ('ORR', '5'), ('DRR', '14.7'), ('REBR', '9.8'), ('PER', 18.4), ('VA', '298.3'), ('EWA', '9.9'), ('AGE', '28'), ('HT', '80'), ('WT', '230'), ('SALARY', 19317326)])\n",
      "OrderedDict([('PLAYER', 'Kris Humphries'), ('TEAM', ' BOS'), ('POS', 'PF'), ('GP', '69'), ('MPG', '19.9'), ('TS%', '0.552'), ('AST', '10.2'), ('TO', '9.8'), ('USG', '17.8'), ('ORR', '10.2'), ('DRR', '24'), ('REBR', '16.9'), ('PER', 18.28), ('VA', '157.8'), ('EWA', '5.3'), ('AGE', '29'), ('HT', '81'), ('WT', '235'), ('SALARY', 4250000)])\n",
      "OrderedDict([('PLAYER', 'DeAndre Jordan'), ('TEAM', ' LAC'), ('POS', 'C'), ('GP', '82'), ('MPG', '35'), ('TS%', '0.63'), ('AST', '8.4'), ('TO', '14'), ('USG', '11.3'), ('ORR', '13.3'), ('DRR', '29.3'), ('REBR', '21.6'), ('PER', 18.19), ('VA', '325.1'), ('EWA', '10.8'), ('AGE', '26'), ('HT', '83'), ('WT', '265'), ('SALARY', 11440123)])\n",
      "OrderedDict([('PLAYER', 'John Henson'), ('TEAM', ' MIL'), ('POS', 'C'), ('GP', '70'), ('MPG', '26.5'), ('TS%', '0.543'), ('AST', '12'), ('TO', '12.1'), ('USG', '19.1'), ('ORR', '10.2'), ('DRR', '20.8'), ('REBR', '15.3'), ('PER', 17.97), ('VA', '204'), ('EWA', '6.8'), ('AGE', '23'), ('HT', '83'), ('WT', '220'), ('SALARY', 1987320)])\n",
      "OrderedDict([('PLAYER', 'Robin Lopez'), ('TEAM', ' POR'), ('POS', 'C'), ('GP', '82'), ('MPG', '31.8'), ('TS%', '0.605'), ('AST', '8'), ('TO', '9.3'), ('USG', '13'), ('ORR', '13.6'), ('DRR', '15.3'), ('REBR', '14.5'), ('PER', 17.68), ('VA', '275.2'), ('EWA', '9.2'), ('AGE', '26'), ('HT', '85'), ('WT', '255'), ('SALARY', 6124729)])\n",
      "OrderedDict([('PLAYER', 'Jon Leuer'), ('TEAM', ' MEM'), ('POS', 'PF'), ('GP', '49'), ('MPG', '13.1'), ('TS%', '0.566'), ('AST', '6.4'), ('TO', '8.6'), ('USG', '19.5'), ('ORR', '6.8'), ('DRR', '22.4'), ('REBR', '14.6'), ('PER', 17.65), ('VA', '58.9'), ('EWA', '2'), ('AGE', '25'), ('HT', '82'), ('WT', '228'), ('SALARY', 967500)])\n",
      "OrderedDict([('PLAYER', 'Jeff Adrien'), ('TEAM', ' MIL/CHA'), ('POS', 'SF'), ('GP', '53'), ('MPG', '18.1'), ('TS%', '0.553'), ('AST', '9.4'), ('TO', '9.6'), ('USG', '18.4'), ('ORR', '11.8'), ('DRR', '24.8'), ('REBR', '18.2'), ('PER', 17.49), ('VA', '85.9'), ('EWA', '2.9'), ('AGE', '28'), ('HT', '79'), ('WT', '245'), ('SALARY', 915243)])\n",
      "OrderedDict([('PLAYER', 'DeJuan Blair'), ('TEAM', ' DAL'), ('POS', 'C'), ('GP', '78'), ('MPG', '15.6'), ('TS%', '0.557'), ('AST', '11.8'), ('TO', '13'), ('USG', '18.1'), ('ORR', '13.3'), ('DRR', '21.6'), ('REBR', '17.5'), ('PER', 17.33), ('VA', '121.9'), ('EWA', '4.1'), ('AGE', '25'), ('HT', '79'), ('WT', '270'), ('SALARY', 2000000)])\n",
      "OrderedDict([('PLAYER', 'Jeff Teague'), ('TEAM', ' ATL'), ('POS', 'PG'), ('GP', '79'), ('MPG', '32.2'), ('TS%', '0.541'), ('AST', '26.9'), ('TO', '11.8'), ('USG', '25.2'), ('ORR', '1.6'), ('DRR', '7.9'), ('REBR', '4.7'), ('PER', 17.16), ('VA', '233.6'), ('EWA', '7.8'), ('AGE', '26'), ('HT', '74'), ('WT', '181'), ('SALARY', 8000000)])\n",
      "OrderedDict([('PLAYER', 'Chris Kaman'), ('TEAM', ' LAL'), ('POS', 'C'), ('GP', '39'), ('MPG', '18.9'), ('TS%', '0.537'), ('AST', '11.4'), ('TO', '14.6'), ('USG', '24.3'), ('ORR', '7.8'), ('DRR', '25.4'), ('REBR', '16.6'), ('PER', 17.06), ('VA', '71'), ('EWA', '2.4'), ('AGE', '32'), ('HT', '85'), ('WT', '265'), ('SALARY', 4800000)])\n",
      "OrderedDict([('PLAYER', 'Samuel Dalembert'), ('TEAM', ' DAL'), ('POS', 'C'), ('GP', '80'), ('MPG', '20.2'), ('TS%', '0.605'), ('AST', '6.7'), ('TO', '15.9'), ('USG', '13.5'), ('ORR', '14.4'), ('DRR', '24.2'), ('REBR', '19.4'), ('PER', 16.88), ('VA', '151.3'), ('EWA', '5'), ('AGE', '33'), ('HT', '83'), ('WT', '250'), ('SALARY', 4051527)])\n",
      "OrderedDict([('PLAYER', 'Kemba Walker'), ('TEAM', ' CHA'), ('POS', 'PG'), ('GP', '73'), ('MPG', '35.8'), ('TS%', '0.499'), ('AST', '23.4'), ('TO', '8.9'), ('USG', '25'), ('ORR', '1.7'), ('DRR', '11.6'), ('REBR', '6.6'), ('PER', 16.82), ('VA', '227.1'), ('EWA', '7.6'), ('AGE', '24'), ('HT', '73'), ('WT', '184'), ('SALARY', 3272091)])\n",
      "OrderedDict([('PLAYER', 'Timofey Mozgov'), ('TEAM', ' DEN'), ('POS', 'C'), ('GP', '82'), ('MPG', '21.6'), ('TS%', '0.584'), ('AST', '7.4'), ('TO', '14.5'), ('USG', '17.3'), ('ORR', '10.4'), ('DRR', '21.9'), ('REBR', '16.1'), ('PER', 16.77), ('VA', '162.9'), ('EWA', '5.4'), ('AGE', '28'), ('HT', '85'), ('WT', '250'), ('SALARY', 4650000)])\n",
      "OrderedDict([('PLAYER', 'Thaddeus Young'), ('TEAM', ' PHI'), ('POS', 'PF'), ('GP', '79'), ('MPG', '34.4'), ('TS%', '0.512'), ('AST', '10.5'), ('TO', '9.5'), ('USG', '22.5'), ('ORR', '6.3'), ('DRR', '12.8'), ('REBR', '9.5'), ('PER', 16.64), ('VA', '208.6'), ('EWA', '7'), ('AGE', '26'), ('HT', '80'), ('WT', '230'), ('SALARY', 9410869)])\n",
      "OrderedDict([('PLAYER', 'Gorgui Dieng'), ('TEAM', ' MIN'), ('POS', 'C'), ('GP', '60'), ('MPG', '13.6'), ('TS%', '0.534'), ('AST', '10.8'), ('TO', '15'), ('USG', '15.8'), ('ORR', '13.4'), ('DRR', '26.9'), ('REBR', '20'), ('PER', 16.58), ('VA', '73'), ('EWA', '2.4'), ('AGE', '24'), ('HT', '83'), ('WT', '238'), ('SALARY', 1413480)])\n",
      "OrderedDict([('PLAYER', 'Gerald Green'), ('TEAM', ' PHX'), ('POS', 'SG'), ('GP', '82'), ('MPG', '28.4'), ('TS%', '0.585'), ('AST', '8.9'), ('TO', '10.6'), ('USG', '21.8'), ('ORR', '2.3'), ('DRR', '10.9'), ('REBR', '6.6'), ('PER', 16.55), ('VA', '210.4'), ('EWA', '7'), ('AGE', '28'), ('HT', '80'), ('WT', '210'), ('SALARY', 3500000)])\n",
      "OrderedDict([('PLAYER', 'Kosta Koufos'), ('TEAM', ' MEM'), ('POS', 'C'), ('GP', '80'), ('MPG', '16.9'), ('TS%', '0.514'), ('AST', '6.4'), ('TO', '11.1'), ('USG', '18'), ('ORR', '14'), ('DRR', '22.7'), ('REBR', '18.4'), ('PER', 16.54), ('VA', '119.6'), ('EWA', '4'), ('AGE', '25'), ('HT', '85'), ('WT', '265'), ('SALARY', 3000000)])\n",
      "OrderedDict([('PLAYER', 'Tyson Chandler'), ('TEAM', ' NY'), ('POS', 'C'), ('GP', '55'), ('MPG', '30.2'), ('TS%', '0.615'), ('AST', '11.3'), ('TO', '13.6'), ('USG', '12'), ('ORR', '10.9'), ('DRR', '27'), ('REBR', '18.7'), ('PER', 16.48), ('VA', '145.8'), ('EWA', '4.9'), ('AGE', '31'), ('HT', '85'), ('WT', '240'), ('SALARY', 14846888)])\n",
      "OrderedDict([('PLAYER', 'Kevin Martin'), ('TEAM', ' MIN'), ('POS', 'SG'), ('GP', '68'), ('MPG', '32'), ('TS%', '0.553'), ('AST', '8.8'), ('TO', '7.6'), ('USG', '23.4'), ('ORR', '1.7'), ('DRR', '8.7'), ('REBR', '5.1'), ('PER', 16.37), ('VA', '190.8'), ('EWA', '6.4'), ('AGE', '31'), ('HT', '79'), ('WT', '197'), ('SALARY', 6792500)])\n",
      "OrderedDict([('PLAYER', 'Jeremy Evans'), ('TEAM', ' UTAH'), ('POS', 'SF'), ('GP', '66'), ('MPG', '18.3'), ('TS%', '0.549'), ('AST', '9.8'), ('TO', '8.9'), ('USG', '14.3'), ('ORR', '11.1'), ('DRR', '18.7'), ('REBR', '14.8'), ('PER', 16.27), ('VA', '104.1'), ('EWA', '3.5'), ('AGE', '26'), ('HT', '81'), ('WT', '197'), ('SALARY', 1794871)])\n",
      "OrderedDict([('PLAYER', 'Gordon Hayward'), ('TEAM', ' UTAH'), ('POS', 'SG'), ('GP', '77'), ('MPG', '36.4'), ('TS%', '0.52'), ('AST', '22.1'), ('TO', '11.7'), ('USG', '22.7'), ('ORR', '2.5'), ('DRR', '14'), ('REBR', '8'), ('PER', 16.22), ('VA', '238.9'), ('EWA', '8'), ('AGE', '24'), ('HT', '80'), ('WT', '220'), ('SALARY', 14746000)])\n",
      "OrderedDict([('PLAYER', 'Jonas Valanciunas'), ('TEAM', ' TOR'), ('POS', 'C'), ('GP', '81'), ('MPG', '28.2'), ('TS%', '0.579'), ('AST', '5.8'), ('TO', '13.8'), ('USG', '16.9'), ('ORR', '11.5'), ('DRR', '25.1'), ('REBR', '18.2'), ('PER', 16.17), ('VA', '189.6'), ('EWA', '6.3'), ('AGE', '22'), ('HT', '83'), ('WT', '231'), ('SALARY', 3678360)])\n",
      "OrderedDict([('PLAYER', 'Nick Young'), ('TEAM', ' LAL'), ('POS', 'SF'), ('GP', '64'), ('MPG', '28.3'), ('TS%', '0.564'), ('AST', '7.9'), ('TO', '7.9'), ('USG', '24.1'), ('ORR', '1.7'), ('DRR', '8.1'), ('REBR', '4.9'), ('PER', 16.11), ('VA', '151.6'), ('EWA', '5.1'), ('AGE', '29'), ('HT', '79'), ('WT', '210'), ('SALARY', 4994420)])\n",
      "OrderedDict([('PLAYER', 'Taj Gibson'), ('TEAM', ' CHI'), ('POS', 'PF'), ('GP', '82'), ('MPG', '28.7'), ('TS%', '0.524'), ('AST', '7.2'), ('TO', '11.9'), ('USG', '21.2'), ('ORR', '9.8'), ('DRR', '17.1'), ('REBR', '13.5'), ('PER', 16.09), ('VA', '161'), ('EWA', '5.4'), ('AGE', '29'), ('HT', '81'), ('WT', '225'), ('SALARY', 8000000)])\n",
      "OrderedDict([('PLAYER', 'C.J. Miles'), ('TEAM', ' CLE'), ('POS', 'SG'), ('GP', '51'), ('MPG', '19.3'), ('TS%', '0.569'), ('AST', '9.7'), ('TO', '8.2'), ('USG', '20.6'), ('ORR', '2'), ('DRR', '9.9'), ('REBR', '5.9'), ('PER', 16.03), ('VA', '81.2'), ('EWA', '2.7'), ('AGE', '27'), ('HT', '78'), ('WT', '231'), ('SALARY', 4205000)])\n",
      "OrderedDict([('PLAYER', 'Vince Carter'), ('TEAM', ' DAL'), ('POS', 'SG'), ('GP', '81'), ('MPG', '24.4'), ('TS%', '0.539'), ('AST', '17.4'), ('TO', '8.9'), ('USG', '21.9'), ('ORR', '4'), ('DRR', '12.6'), ('REBR', '8.3'), ('PER', 15.97), ('VA', '161.2'), ('EWA', '5.4'), ('AGE', '37'), ('HT', '78'), ('WT', '220'), ('SALARY', 3911981)])\n",
      "OrderedDict([('PLAYER', 'Jimmer Fredette'), ('TEAM', ' CHI/SAC'), ('POS', 'PG'), ('GP', '49'), ('MPG', '10.6'), ('TS%', '0.578'), ('AST', '18.4'), ('TO', '13.8'), ('USG', '25.9'), ('ORR', '1.7'), ('DRR', '9.7'), ('REBR', '5.7'), ('PER', 15.88), ('VA', '37.8'), ('EWA', '1.3'), ('AGE', '25'), ('HT', '74'), ('WT', '195'), ('SALARY', 915243)])\n",
      "OrderedDict([('PLAYER', 'Nicolas Batum'), ('TEAM', ' POR'), ('POS', 'SF'), ('GP', '82'), ('MPG', '36'), ('TS%', '0.589'), ('AST', '27.3'), ('TO', '13.5'), ('USG', '16.8'), ('ORR', '4.3'), ('DRR', '17.8'), ('REBR', '11.1'), ('PER', 15.86), ('VA', '236.7'), ('EWA', '7.9'), ('AGE', '25'), ('HT', '80'), ('WT', '200'), ('SALARY', 11765500)])\n",
      "OrderedDict([('PLAYER', 'Spencer Hawes'), ('TEAM', ' CLE/PHI'), ('POS', 'PF'), ('GP', '80'), ('MPG', '30.9'), ('TS%', '0.554'), ('AST', '17.6'), ('TO', '12.7'), ('USG', '19.8'), ('ORR', '5.6'), ('DRR', '24.2'), ('REBR', '14.6'), ('PER', 15.77), ('VA', '190.6'), ('EWA', '6.4'), ('AGE', '26'), ('HT', '85'), ('WT', '245'), ('SALARY', 5305000)])\n",
      "OrderedDict([('PLAYER', 'Enes Kanter'), ('TEAM', ' UTAH'), ('POS', 'C'), ('GP', '80'), ('MPG', '26.7'), ('TS%', '0.523'), ('AST', '6.5'), ('TO', '12.4'), ('USG', '21.4'), ('ORR', '11.6'), ('DRR', '20.9'), ('REBR', '16.1'), ('PER', 15.7), ('VA', '162.7'), ('EWA', '5.4'), ('AGE', '22'), ('HT', '83'), ('WT', '247'), ('SALARY', 5694674)])\n",
      "OrderedDict([('PLAYER', 'Tony Allen'), ('TEAM', ' MEM'), ('POS', 'SG'), ('GP', '55'), ('MPG', '23.2'), ('TS%', '0.531'), ('AST', '14.5'), ('TO', '13.8'), ('USG', '19.2'), ('ORR', '7.3'), ('DRR', '12'), ('REBR', '9.6'), ('PER', 15.64), ('VA', '98.1'), ('EWA', '3.3'), ('AGE', '32'), ('HT', '76'), ('WT', '213'), ('SALARY', 4831461)])\n",
      "OrderedDict([('PLAYER', 'Michael Carter-Williams'), ('TEAM', ' PHI'), ('POS', 'PG'), ('GP', '70'), ('MPG', '34.5'), ('TS%', '0.48'), ('AST', '23.2'), ('TO', '13'), ('USG', '25.3'), ('ORR', '4.3'), ('DRR', '15.6'), ('REBR', '9.8'), ('PER', 15.59), ('VA', '165.4'), ('EWA', '5.5'), ('AGE', '22'), ('HT', '78'), ('WT', '185'), ('SALARY', 2300040)])\n",
      "OrderedDict([('PLAYER', 'Amir Johnson'), ('TEAM', ' TOR'), ('POS', 'PF'), ('GP', '77'), ('MPG', '28.8'), ('TS%', '0.592'), ('AST', '12.6'), ('TO', '13.5'), ('USG', '15.4'), ('ORR', '9'), ('DRR', '17.6'), ('REBR', '13.3'), ('PER', 15.44), ('VA', '130.2'), ('EWA', '4.3'), ('AGE', '27'), ('HT', '81'), ('WT', '210'), ('SALARY', 7000000)])\n",
      "OrderedDict([('PLAYER', 'Tyler Zeller'), ('TEAM', ' CLE'), ('POS', 'C'), ('GP', '70'), ('MPG', '15'), ('TS%', '0.581'), ('AST', '8.2'), ('TO', '13.7'), ('USG', '15.9'), ('ORR', '10.8'), ('DRR', '19.6'), ('REBR', '15.1'), ('PER', 15.43), ('VA', '75.5'), ('EWA', '2.5'), ('AGE', '24'), ('HT', '85'), ('WT', '253'), ('SALARY', 1703760)])\n",
      "OrderedDict([('PLAYER', 'Mike Scott'), ('TEAM', ' ATL'), ('POS', 'PF'), ('GP', '80'), ('MPG', '18.5'), ('TS%', '0.559'), ('AST', '8.9'), ('TO', '9.4'), ('USG', '21.2'), ('ORR', '4.9'), ('DRR', '17.2'), ('REBR', '11.1'), ('PER', 15.34), ('VA', '85'), ('EWA', '2.8'), ('AGE', '26'), ('HT', '80'), ('WT', '237'), ('SALARY', 0)])\n",
      "OrderedDict([('PLAYER', 'Rajon Rondo'), ('TEAM', ' BOS'), ('POS', 'PG'), ('GP', '30'), ('MPG', '33.3'), ('TS%', '0.461'), ('AST', '38.1'), ('TO', '12.8'), ('USG', '23.2'), ('ORR', '2.4'), ('DRR', '16.6'), ('REBR', '9.3'), ('PER', 15.34), ('VA', '64.6'), ('EWA', '2.2'), ('AGE', '28'), ('HT', '73'), ('WT', '186'), ('SALARY', 12909090)])\n",
      "OrderedDict([('PLAYER', 'Jeff Withey'), ('TEAM', ' NO'), ('POS', 'C'), ('GP', '58'), ('MPG', '11.8'), ('TS%', '0.59'), ('AST', '12.6'), ('TO', '9.7'), ('USG', '11.3'), ('ORR', '8.2'), ('DRR', '17.4'), ('REBR', '12.7'), ('PER', 15.25), ('VA', '47.5'), ('EWA', '1.6'), ('AGE', '24'), ('HT', '85'), ('WT', '235'), ('SALARY', 816482)])\n",
      "OrderedDict([('PLAYER', 'Jose Calderon'), ('TEAM', ' DAL'), ('POS', 'PG'), ('GP', '81'), ('MPG', '30.5'), ('TS%', '0.596'), ('AST', '30'), ('TO', '8.2'), ('USG', '16.4'), ('ORR', '1.4'), ('DRR', '7.6'), ('REBR', '4.5'), ('PER', 15.25), ('VA', '156.4'), ('EWA', '5.2'), ('AGE', '32'), ('HT', '75'), ('WT', '211'), ('SALARY', 7097191)])\n",
      "OrderedDict([('PLAYER', 'Marreese Speights'), ('TEAM', ' GS'), ('POS', 'PF'), ('GP', '79'), ('MPG', '12.4'), ('TS%', '0.507'), ('AST', '5.3'), ('TO', '11'), ('USG', '23'), ('ORR', '11.4'), ('DRR', '20.6'), ('REBR', '16.1'), ('PER', 15.22), ('VA', '54.5'), ('EWA', '1.8'), ('AGE', '27'), ('HT', '82'), ('WT', '255'), ('SALARY', 3657500)])\n",
      "OrderedDict([('PLAYER', 'Jordan Farmar'), ('TEAM', ' LAL'), ('POS', 'PG'), ('GP', '41'), ('MPG', '22.2'), ('TS%', '0.533'), ('AST', '29.1'), ('TO', '13.9'), ('USG', '23.1'), ('ORR', '2.3'), ('DRR', '9.8'), ('REBR', '6.1'), ('PER', 15.05), ('VA', '55.2'), ('EWA', '1.8'), ('AGE', '27'), ('HT', '74'), ('WT', '180'), ('SALARY', 2077000)])\n",
      "OrderedDict([('PLAYER', 'Brandon Bass'), ('TEAM', ' BOS'), ('POS', 'PF'), ('GP', '82'), ('MPG', '27.6'), ('TS%', '0.549'), ('AST', '8.5'), ('TO', '10'), ('USG', '17'), ('ORR', '7.8'), ('DRR', '15.9'), ('REBR', '11.8'), ('PER', 15.01), ('VA', '118.8'), ('EWA', '4'), ('AGE', '29'), ('HT', '80'), ('WT', '250'), ('SALARY', 6900000)])\n",
      "OrderedDict([('PLAYER', 'Eric Gordon'), ('TEAM', ' NO'), ('POS', 'SG'), ('GP', '64'), ('MPG', '32.1'), ('TS%', '0.54'), ('AST', '16.5'), ('TO', '10.7'), ('USG', '22.2'), ('ORR', '1.7'), ('DRR', '7.7'), ('REBR', '4.7'), ('PER', 14.92), ('VA', '135.8'), ('EWA', '4.5'), ('AGE', '25'), ('HT', '76'), ('WT', '215'), ('SALARY', 14898938)])\n",
      "OrderedDict([('PLAYER', 'Jodie Meeks'), ('TEAM', ' LAL'), ('POS', 'SG'), ('GP', '77'), ('MPG', '33.2'), ('TS%', '0.601'), ('AST', '11'), ('TO', '8.8'), ('USG', '17.4'), ('ORR', '1.3'), ('DRR', '6.9'), ('REBR', '4.1'), ('PER', 14.75), ('VA', '162.2'), ('EWA', '5.4'), ('AGE', '27'), ('HT', '76'), ('WT', '208'), ('SALARY', 6000000)])\n",
      "OrderedDict([('PLAYER', 'Lance Stephenson'), ('TEAM', ' IND'), ('POS', 'SG'), ('GP', '78'), ('MPG', '35.3'), ('TS%', '0.564'), ('AST', '23.5'), ('TO', '13.8'), ('USG', '19'), ('ORR', '4.1'), ('DRR', '18.1'), ('REBR', '11.4'), ('PER', 14.72), ('VA', '173.3'), ('EWA', '5.8'), ('AGE', '23'), ('HT', '77'), ('WT', '230'), ('SALARY', 9000000)])\n",
      "OrderedDict([('PLAYER', 'Devin Harris'), ('TEAM', ' DAL'), ('POS', 'PG'), ('GP', '40'), ('MPG', '20.5'), ('TS%', '0.517'), ('AST', '32.9'), ('TO', '10.9'), ('USG', '20.8'), ('ORR', '1.1'), ('DRR', '10.8'), ('REBR', '6'), ('PER', 14.66), ('VA', '44.6'), ('EWA', '1.5'), ('AGE', '31'), ('HT', '75'), ('WT', '192'), ('SALARY', 3878896)])\n",
      "OrderedDict([('PLAYER', 'Miles Plumlee'), ('TEAM', ' PHX'), ('POS', 'C'), ('GP', '80'), ('MPG', '24.6'), ('TS%', '0.529'), ('AST', '5.6'), ('TO', '14.5'), ('USG', '14.7'), ('ORR', '11.3'), ('DRR', '24.4'), ('REBR', '17.9'), ('PER', 14.6), ('VA', '117.3'), ('EWA', '3.9'), ('AGE', '25'), ('HT', '83'), ('WT', '255'), ('SALARY', 1169880)])\n",
      "OrderedDict([('PLAYER', 'Shaun Livingston'), ('TEAM', ' BKN'), ('POS', 'PG'), ('GP', '76'), ('MPG', '26'), ('TS%', '0.551'), ('AST', '26.6'), ('TO', '11.4'), ('USG', '15.8'), ('ORR', '4.1'), ('DRR', '10.8'), ('REBR', '7.5'), ('PER', 14.52), ('VA', '103.8'), ('EWA', '3.5'), ('AGE', '28'), ('HT', '79'), ('WT', '175'), ('SALARY', 5305000)])\n",
      "OrderedDict([('PLAYER', 'Will Bynum'), ('TEAM', ' DET'), ('POS', 'PG'), ('GP', '56'), ('MPG', '18.8'), ('TS%', '0.502'), ('AST', '26.9'), ('TO', '12.8'), ('USG', '24.7'), ('ORR', '2.4'), ('DRR', '8.2'), ('REBR', '5.1'), ('PER', 14.44), ('VA', '54.1'), ('EWA', '1.8'), ('AGE', '31'), ('HT', '73'), ('WT', '185'), ('SALARY', 2915908)])\n",
      "OrderedDict([('PLAYER', 'Mirza Teletovic'), ('TEAM', ' BKN'), ('POS', 'PF'), ('GP', '72'), ('MPG', '19.4'), ('TS%', '0.559'), ('AST', '8.5'), ('TO', '8.1'), ('USG', '18.5'), ('ORR', '5.2'), ('DRR', '17.6'), ('REBR', '11.4'), ('PER', 14.38), ('VA', '60.1'), ('EWA', '2'), ('AGE', '28'), ('HT', '81'), ('WT', '242'), ('SALARY', 3368100)])\n",
      "OrderedDict([('PLAYER', 'Klay Thompson'), ('TEAM', ' GS'), ('POS', 'SG'), ('GP', '81'), ('MPG', '35.4'), ('TS%', '0.555'), ('AST', '10.9'), ('TO', '8.2'), ('USG', '20.9'), ('ORR', '1.5'), ('DRR', '7.9'), ('REBR', '4.7'), ('PER', 14.32), ('VA', '163.3'), ('EWA', '5.4'), ('AGE', '24'), ('HT', '79'), ('WT', '205'), ('SALARY', 3075880)])\n",
      "OrderedDict([('PLAYER', 'Louis Williams'), ('TEAM', ' ATL'), ('POS', 'SG'), ('GP', '60'), ('MPG', '24.1'), ('TS%', '0.547'), ('AST', '24'), ('TO', '10.5'), ('USG', '20.2'), ('ORR', '0.8'), ('DRR', '9.1'), ('REBR', '5'), ('PER', 14.24), ('VA', '80.7'), ('EWA', '2.7'), ('AGE', '27'), ('HT', '73'), ('WT', '175'), ('SALARY', 5450000)])\n",
      "OrderedDict([('PLAYER', 'Greivis Vasquez'), ('TEAM', ' SAC/TOR'), ('POS', 'PG'), ('GP', '79'), ('MPG', '22.5'), ('TS%', '0.537'), ('AST', '27.9'), ('TO', '11.1'), ('USG', '19.1'), ('ORR', '1.3'), ('DRR', '10'), ('REBR', '5.6'), ('PER', 14.2), ('VA', '84.8'), ('EWA', '2.8'), ('AGE', '27'), ('HT', '78'), ('WT', '211'), ('SALARY', 6400000)])\n",
      "OrderedDict([('PLAYER', 'Boris Diaw'), ('TEAM', ' SA'), ('POS', 'PF'), ('GP', '79'), ('MPG', '25'), ('TS%', '0.578'), ('AST', '23'), ('TO', '12.6'), ('USG', '16.4'), ('ORR', '4.4'), ('DRR', '13.8'), ('REBR', '9.3'), ('PER', 14.12), ('VA', '77.2'), ('EWA', '2.6'), ('AGE', '32'), ('HT', '80'), ('WT', '250'), ('SALARY', 7500000)])\n",
      "OrderedDict([('PLAYER', 'Dion Waiters'), ('TEAM', ' CLE'), ('POS', 'SG'), ('GP', '70'), ('MPG', '29.6'), ('TS%', '0.508'), ('AST', '14.4'), ('TO', '10.5'), ('USG', '25.7'), ('ORR', '1.7'), ('DRR', '9'), ('REBR', '5.3'), ('PER', 14.1), ('VA', '111.3'), ('EWA', '3.7'), ('AGE', '22'), ('HT', '76'), ('WT', '225'), ('SALARY', 4062000)])\n",
      "OrderedDict([('PLAYER', 'Elton Brand'), ('TEAM', ' ATL'), ('POS', 'PF'), ('GP', '73'), ('MPG', '19.4'), ('TS%', '0.561'), ('AST', '14.6'), ('TO', '11.8'), ('USG', '12.9'), ('ORR', '8'), ('DRR', '21.5'), ('REBR', '14.8'), ('PER', 14.05), ('VA', '53.8'), ('EWA', '1.8'), ('AGE', '35'), ('HT', '81'), ('WT', '254'), ('SALARY', 0)])\n",
      "OrderedDict([('PLAYER', 'Marvin Williams'), ('TEAM', ' UTAH'), ('POS', 'PF'), ('GP', '66'), ('MPG', '25.4'), ('TS%', '0.54'), ('AST', '11.3'), ('TO', '7.7'), ('USG', '15.7'), ('ORR', '5.5'), ('DRR', '17.9'), ('REBR', '11.5'), ('PER', 14.04), ('VA', '63.4'), ('EWA', '2.1'), ('AGE', '28'), ('HT', '81'), ('WT', '237'), ('SALARY', 7000000)])\n",
      "OrderedDict([('PLAYER', 'Zaza Pachulia'), ('TEAM', ' MIL'), ('POS', 'C'), ('GP', '53'), ('MPG', '25'), ('TS%', '0.502'), ('AST', '21.4'), ('TO', '14.5'), ('USG', '16.8'), ('ORR', '11.8'), ('DRR', '17.1'), ('REBR', '14.4'), ('PER', 14.03), ('VA', '67.9'), ('EWA', '2.3'), ('AGE', '30'), ('HT', '83'), ('WT', '275'), ('SALARY', 5200000)])\n",
      "OrderedDict([('PLAYER', 'J.R. Smith'), ('TEAM', ' NY'), ('POS', 'SG'), ('GP', '74'), ('MPG', '32.7'), ('TS%', '0.527'), ('AST', '16.3'), ('TO', '8'), ('USG', '20.6'), ('ORR', '1.7'), ('DRR', '13.1'), ('REBR', '7.2'), ('PER', 14.0), ('VA', '126.4'), ('EWA', '4.2'), ('AGE', '28'), ('HT', '78'), ('WT', '220'), ('SALARY', 5982375)])\n",
      "OrderedDict([('PLAYER', 'DeMarre Carroll'), ('TEAM', ' ATL'), ('POS', 'SF'), ('GP', '73'), ('MPG', '32.1'), ('TS%', '0.575'), ('AST', '14.6'), ('TO', '8.6'), ('USG', '14.1'), ('ORR', '5.3'), ('DRR', '14.5'), ('REBR', '10'), ('PER', 13.96), ('VA', '120.8'), ('EWA', '4'), ('AGE', '28'), ('HT', '80'), ('WT', '212'), ('SALARY', 2442455)])\n",
      "OrderedDict([('PLAYER', 'Danny Green'), ('TEAM', ' SA'), ('POS', 'SG'), ('GP', '68'), ('MPG', '24.3'), ('TS%', '0.58'), ('AST', '14.6'), ('TO', '10.7'), ('USG', '15.5'), ('ORR', '1.8'), ('DRR', '13.4'), ('REBR', '7.8'), ('PER', 13.9), ('VA', '83.7'), ('EWA', '2.8'), ('AGE', '27'), ('HT', '78'), ('WT', '215'), ('SALARY', 4025000)])\n",
      "OrderedDict([('PLAYER', 'Ersan Ilyasova'), ('TEAM', ' MIL'), ('POS', 'PF'), ('GP', '55'), ('MPG', '26.9'), ('TS%', '0.486'), ('AST', '9.4'), ('TO', '7.9'), ('USG', '19.9'), ('ORR', '8'), ('DRR', '18.8'), ('REBR', '13.3'), ('PER', 13.85), ('VA', '51.9'), ('EWA', '1.7'), ('AGE', '27'), ('HT', '82'), ('WT', '235'), ('SALARY', 7900000)])\n",
      "OrderedDict([('PLAYER', 'Josh McRoberts'), ('TEAM', ' CHA'), ('POS', 'PF'), ('GP', '78'), ('MPG', '30.3'), ('TS%', '0.548'), ('AST', '32.7'), ('TO', '8.1'), ('USG', '13.7'), ('ORR', '4'), ('DRR', '13.8'), ('REBR', '8.9'), ('PER', 13.82), ('VA', '81.6'), ('EWA', '2.7'), ('AGE', '27'), ('HT', '82'), ('WT', '240'), ('SALARY', 5305000)])\n",
      "OrderedDict([('PLAYER', 'Shawn Marion'), ('TEAM', ' DAL'), ('POS', 'SF'), ('GP', '76'), ('MPG', '31.7'), ('TS%', '0.537'), ('AST', '13'), ('TO', '9.9'), ('USG', '14.6'), ('ORR', '6.4'), ('DRR', '17.4'), ('REBR', '11.9'), ('PER', 13.78), ('VA', '117.9'), ('EWA', '3.9'), ('AGE', '36'), ('HT', '79'), ('WT', '228'), ('SALARY', 0)])\n",
      "OrderedDict([('PLAYER', 'Victor Oladipo'), ('TEAM', ' ORL'), ('POS', 'SG'), ('GP', '80'), ('MPG', '31.1'), ('TS%', '0.514'), ('AST', '19.7'), ('TO', '15.4'), ('USG', '23.3'), ('ORR', '1.9'), ('DRR', '13.1'), ('REBR', '7.5'), ('PER', 13.64), ('VA', '116.5'), ('EWA', '3.9'), ('AGE', '22'), ('HT', '76'), ('WT', '215'), ('SALARY', 4978200)])\n",
      "OrderedDict([('PLAYER', 'Kyle Korver'), ('TEAM', ' ATL'), ('POS', 'SG'), ('GP', '71'), ('MPG', '33.9'), ('TS%', '0.653'), ('AST', '21.7'), ('TO', '10.6'), ('USG', '13.6'), ('ORR', '1.1'), ('DRR', '12.4'), ('REBR', '6.8'), ('PER', 13.55), ('VA', '109.8'), ('EWA', '3.7'), ('AGE', '33'), ('HT', '79'), ('WT', '212'), ('SALARY', 6253521)])\n",
      "OrderedDict([('PLAYER', 'Brian Roberts'), ('TEAM', ' NO'), ('POS', 'PG'), ('GP', '72'), ('MPG', '23.2'), ('TS%', '0.529'), ('AST', '24.2'), ('TO', '9.8'), ('USG', '19.9'), ('ORR', '1.2'), ('DRR', '8.4'), ('REBR', '4.7'), ('PER', 13.49), ('VA', '61.9'), ('EWA', '2.1'), ('AGE', '28'), ('HT', '73'), ('WT', '173'), ('SALARY', 2732000)])\n",
      "OrderedDict([('PLAYER', 'Luis Scola'), ('TEAM', ' IND'), ('POS', 'PF'), ('GP', '82'), ('MPG', '17.1'), ('TS%', '0.505'), ('AST', '10'), ('TO', '13.4'), ('USG', '21.9'), ('ORR', '7.2'), ('DRR', '23.4'), ('REBR', '15.7'), ('PER', 13.42), ('VA', '40.2'), ('EWA', '1.3'), ('AGE', '34'), ('HT', '81'), ('WT', '240'), ('SALARY', 4868499)])\n",
      "OrderedDict([('PLAYER', 'George Hill'), ('TEAM', ' IND'), ('POS', 'PG'), ('GP', '76'), ('MPG', '32'), ('TS%', '0.563'), ('AST', '25.2'), ('TO', '8.8'), ('USG', '14.6'), ('ORR', '2.6'), ('DRR', '10.1'), ('REBR', '6.5'), ('PER', 13.42), ('VA', '87.7'), ('EWA', '2.9'), ('AGE', '28'), ('HT', '75'), ('WT', '188'), ('SALARY', 8000000)])\n",
      "OrderedDict([('PLAYER', 'Bismack Biyombo'), ('TEAM', ' CHA'), ('POS', 'C'), ('GP', '77'), ('MPG', '13.9'), ('TS%', '0.606'), ('AST', '3.5'), ('TO', '17.3'), ('USG', '8.6'), ('ORR', '11'), ('DRR', '27.6'), ('REBR', '19.3'), ('PER', 13.33), ('VA', '43.6'), ('EWA', '1.5'), ('AGE', '21'), ('HT', '81'), ('WT', '245'), ('SALARY', 3873398)])\n",
      "OrderedDict([('PLAYER', 'P.J. Tucker'), ('TEAM', ' PHX'), ('POS', 'SF'), ('GP', '81'), ('MPG', '30.7'), ('TS%', '0.54'), ('AST', '14.9'), ('TO', '10.8'), ('USG', '13.4'), ('ORR', '7.3'), ('DRR', '16.6'), ('REBR', '11.9'), ('PER', 13.31), ('VA', '104.5'), ('EWA', '3.5'), ('AGE', '29'), ('HT', '78'), ('WT', '224'), ('SALARY', 5700000)])\n",
      "OrderedDict([('PLAYER', 'Channing Frye'), ('TEAM', ' PHX'), ('POS', 'PF'), ('GP', '82'), ('MPG', '28.2'), ('TS%', '0.555'), ('AST', '9.7'), ('TO', '8.8'), ('USG', '16'), ('ORR', '3.6'), ('DRR', '16.6'), ('REBR', '10.1'), ('PER', 13.26), ('VA', '60.6'), ('EWA', '2'), ('AGE', '31'), ('HT', '83'), ('WT', '245'), ('SALARY', 8579088)])\n",
      "OrderedDict([('PLAYER', 'Jeff Green'), ('TEAM', ' BOS'), ('POS', 'SF'), ('GP', '82'), ('MPG', '34.2'), ('TS%', '0.52'), ('AST', '8.5'), ('TO', '10.1'), ('USG', '22'), ('ORR', '2.1'), ('DRR', '13.6'), ('REBR', '7.7'), ('PER', 13.17), ('VA', '111.7'), ('EWA', '3.7'), ('AGE', '27'), ('HT', '81'), ('WT', '235'), ('SALARY', 9200000)])\n",
      "OrderedDict([('PLAYER', 'Gerald Henderson'), ('TEAM', ' CHA'), ('POS', 'SG'), ('GP', '77'), ('MPG', '32'), ('TS%', '0.507'), ('AST', '14.4'), ('TO', '8.2'), ('USG', '20.6'), ('ORR', '1.4'), ('DRR', '12.9'), ('REBR', '7.1'), ('PER', 13.13), ('VA', '96.6'), ('EWA', '3.2'), ('AGE', '26'), ('HT', '77'), ('WT', '215'), ('SALARY', 6000000)])\n",
      "OrderedDict([('PLAYER', 'C.J. Watson'), ('TEAM', ' IND'), ('POS', 'PG'), ('GP', '63'), ('MPG', '18.9'), ('TS%', '0.555'), ('AST', '19.8'), ('TO', '11.1'), ('USG', '15.9'), ('ORR', '1.9'), ('DRR', '7.4'), ('REBR', '4.8'), ('PER', 13.08), ('VA', '37'), ('EWA', '1.2'), ('AGE', '30'), ('HT', '74'), ('WT', '175'), ('SALARY', 2077000)])\n",
      "OrderedDict([('PLAYER', 'Tony Wroten'), ('TEAM', ' PHI'), ('POS', 'SG'), ('GP', '72'), ('MPG', '24.5'), ('TS%', '0.493'), ('AST', '15.8'), ('TO', '14.9'), ('USG', '26.4'), ('ORR', '4.1'), ('DRR', '10.1'), ('REBR', '7'), ('PER', 12.96), ('VA', '64.9'), ('EWA', '2.2'), ('AGE', '21'), ('HT', '78'), ('WT', '205'), ('SALARY', 1210080)])\n",
      "OrderedDict([('PLAYER', 'Ray Allen'), ('TEAM', ' MIA'), ('POS', 'SG'), ('GP', '73'), ('MPG', '26.5'), ('TS%', '0.59'), ('AST', '17.4'), ('TO', '10.2'), ('USG', '15.5'), ('ORR', '1.6'), ('DRR', '11.4'), ('REBR', '6.7'), ('PER', 12.83), ('VA', '67.4'), ('EWA', '2.2'), ('AGE', '39'), ('HT', '77'), ('WT', '205'), ('SALARY', 0)])\n",
      "OrderedDict([('PLAYER', 'Tim Hardaway Jr.'), ('TEAM', ' NY'), ('POS', 'SG'), ('GP', '81'), ('MPG', '23.1'), ('TS%', '0.554'), ('AST', '7.7'), ('TO', '5.5'), ('USG', '18'), ('ORR', '1.2'), ('DRR', '6.6'), ('REBR', '3.8'), ('PER', 12.79), ('VA', '64.1'), ('EWA', '2.1'), ('AGE', '22'), ('HT', '78'), ('WT', '205'), ('SALARY', 1250640)])\n",
      "OrderedDict([('PLAYER', 'Jordan Hamilton'), ('TEAM', ' DEN/HOU'), ('POS', 'SF'), ('GP', '60'), ('MPG', '17'), ('TS%', '0.507'), ('AST', '10.5'), ('TO', '9.3'), ('USG', '17.5'), ('ORR', '3.5'), ('DRR', '17'), ('REBR', '10.4'), ('PER', 12.75), ('VA', '34.2'), ('EWA', '1.1'), ('AGE', '23'), ('HT', '79'), ('WT', '220'), ('SALARY', 0)])\n",
      "OrderedDict([('PLAYER', 'Draymond Green'), ('TEAM', ' GS'), ('POS', 'SF'), ('GP', '82'), ('MPG', '21.9'), ('TS%', '0.498'), ('AST', '20.1'), ('TO', '12'), ('USG', '14.3'), ('ORR', '5.3'), ('DRR', '19.3'), ('REBR', '12.4'), ('PER', 12.73), ('VA', '59.8'), ('EWA', '2'), ('AGE', '24'), ('HT', '79'), ('WT', '230'), ('SALARY', 915243)])\n",
      "OrderedDict([('PLAYER', 'Dante Cunningham'), ('TEAM', ' MIN'), ('POS', 'PF'), ('GP', '81'), ('MPG', '20.2'), ('TS%', '0.475'), ('AST', '12.6'), ('TO', '6.3'), ('USG', '14.4'), ('ORR', '7.3'), ('DRR', '14.9'), ('REBR', '11'), ('PER', 12.67), ('VA', '28.6'), ('EWA', '1'), ('AGE', '27'), ('HT', '80'), ('WT', '221'), ('SALARY', 0)])\n",
      "OrderedDict([('PLAYER', 'Kendall Marshall'), ('TEAM', ' LAL'), ('POS', 'PG'), ('GP', '54'), ('MPG', '29'), ('TS%', '0.494'), ('AST', '44.9'), ('TO', '14.1'), ('USG', '18.1'), ('ORR', '1'), ('DRR', '9.6'), ('REBR', '5.3'), ('PER', 12.66), ('VA', '38.8'), ('EWA', '1.3'), ('AGE', '23'), ('HT', '76'), ('WT', '195'), ('SALARY', 915243)])\n",
      "OrderedDict([('PLAYER', 'Mike Dunleavy'), ('TEAM', ' CHI'), ('POS', 'SF'), ('GP', '82'), ('MPG', '31.5'), ('TS%', '0.549'), ('AST', '16.3'), ('TO', '9.5'), ('USG', '16.3'), ('ORR', '2.1'), ('DRR', '13'), ('REBR', '7.6'), ('PER', 12.62), ('VA', '81.6'), ('EWA', '2.7'), ('AGE', '33'), ('HT', '81'), ('WT', '230'), ('SALARY', 3326235)])\n",
      "OrderedDict([('PLAYER', 'Gary Neal'), ('TEAM', ' MIL/CHA'), ('POS', 'SG'), ('GP', '52'), ('MPG', '21.4'), ('TS%', '0.53'), ('AST', '12.5'), ('TO', '9.6'), ('USG', '23.9'), ('ORR', '1'), ('DRR', '8.3'), ('REBR', '4.6'), ('PER', 12.54), ('VA', '34'), ('EWA', '1.1'), ('AGE', '29'), ('HT', '76'), ('WT', '210'), ('SALARY', 3250000)])\n",
      "OrderedDict([('PLAYER', 'Lavoy Allen'), ('TEAM', ' IND/PHI'), ('POS', 'PF'), ('GP', '65'), ('MPG', '16.5'), ('TS%', '0.47'), ('AST', '16.2'), ('TO', '10.1'), ('USG', '16.1'), ('ORR', '11.7'), ('DRR', '20'), ('REBR', '15.7'), ('PER', 12.52), ('VA', '16.3'), ('EWA', '0.5'), ('AGE', '25'), ('HT', '81'), ('WT', '255'), ('SALARY', 915243)])\n",
      "OrderedDict([('PLAYER', 'Mike Miller'), ('TEAM', ' MEM'), ('POS', 'SF'), ('GP', '82'), ('MPG', '20.8'), ('TS%', '0.619'), ('AST', '19.3'), ('TO', '11.4'), ('USG', '14.4'), ('ORR', '2.1'), ('DRR', '12.3'), ('REBR', '7.2'), ('PER', 12.5), ('VA', '51'), ('EWA', '1.7'), ('AGE', '34'), ('HT', '80'), ('WT', '218'), ('SALARY', 2732000)])\n",
      "OrderedDict([('PLAYER', 'Andrei Kirilenko'), ('TEAM', ' BKN'), ('POS', 'SF'), ('GP', '45'), ('MPG', '19'), ('TS%', '0.532'), ('AST', '21.3'), ('TO', '16'), ('USG', '13.9'), ('ORR', '7.7'), ('DRR', '12.7'), ('REBR', '10.2'), ('PER', 12.48), ('VA', '25.3'), ('EWA', '0.8'), ('AGE', '33'), ('HT', '81'), ('WT', '235'), ('SALARY', 3326235)])\n",
      "OrderedDict([('PLAYER', 'Evan Turner'), ('TEAM', ' IND/PHI'), ('POS', 'SF'), ('GP', '81'), ('MPG', '30.3'), ('TS%', '0.498'), ('AST', '16.5'), ('TO', '11.9'), ('USG', '18.5'), ('ORR', '2.7'), ('DRR', '15.7'), ('REBR', '9.1'), ('PER', 12.43), ('VA', '70.9'), ('EWA', '2.4'), ('AGE', '25'), ('HT', '79'), ('WT', '220'), ('SALARY', 0)])\n",
      "OrderedDict([('PLAYER', 'Nick Calathes'), ('TEAM', ' MEM'), ('POS', 'SG'), ('GP', '71'), ('MPG', '16.5'), ('TS%', '0.506'), ('AST', '31.8'), ('TO', '15.5'), ('USG', '18.3'), ('ORR', '2.3'), ('DRR', '11.5'), ('REBR', '6.9'), ('PER', 12.36), ('VA', '32.5'), ('EWA', '1.1'), ('AGE', '25'), ('HT', '78'), ('WT', '213'), ('SALARY', 816482)])\n",
      "OrderedDict([('PLAYER', 'Kenyon Martin'), ('TEAM', ' NY'), ('POS', 'PF'), ('GP', '32'), ('MPG', '19.8'), ('TS%', '0.521'), ('AST', '24.1'), ('TO', '12.5'), ('USG', '11.4'), ('ORR', '6.5'), ('DRR', '18.7'), ('REBR', '12.5'), ('PER', 12.25), ('VA', '7.1'), ('EWA', '0.2'), ('AGE', '36'), ('HT', '81'), ('WT', '225'), ('SALARY', 0)])\n",
      "OrderedDict([('PLAYER', 'Anthony Randolph'), ('TEAM', ' DEN'), ('POS', 'SF'), ('GP', '43'), ('MPG', '12.3'), ('TS%', '0.499'), ('AST', '11.5'), ('TO', '14.1'), ('USG', '18.6'), ('ORR', '4.1'), ('DRR', '21'), ('REBR', '12.5'), ('PER', 12.23), ('VA', '13.6'), ('EWA', '0.5'), ('AGE', '25'), ('HT', '83'), ('WT', '225'), ('SALARY', 1825359)])\n",
      "OrderedDict([('PLAYER', 'Robert Sacre'), ('TEAM', ' LAL'), ('POS', 'C'), ('GP', '65'), ('MPG', '16.8'), ('TS%', '0.513'), ('AST', '11.7'), ('TO', '10.1'), ('USG', '14.1'), ('ORR', '8'), ('DRR', '16.9'), ('REBR', '12.5'), ('PER', 12.17), ('VA', '25.5'), ('EWA', '0.9'), ('AGE', '25'), ('HT', '85'), ('WT', '260'), ('SALARY', 915243)])\n",
      "OrderedDict([('PLAYER', 'Michael Kidd-Gilchrist'), ('TEAM', ' CHA'), ('POS', 'SF'), ('GP', '62'), ('MPG', '24.2'), ('TS%', '0.516'), ('AST', '9.5'), ('TO', '11'), ('USG', '13.8'), ('ORR', '8.2'), ('DRR', '16.2'), ('REBR', '12.2'), ('PER', 12.07), ('VA', '35.2'), ('EWA', '1.2'), ('AGE', '20'), ('HT', '79'), ('WT', '232'), ('SALARY', 5016960)])\n",
      "OrderedDict([('PLAYER', 'Jerryd Bayless'), ('TEAM', ' BOS/MEM'), ('POS', 'PG'), ('GP', '72'), ('MPG', '23.4'), ('TS%', '0.498'), ('AST', '20.5'), ('TO', '8.7'), ('USG', '19.7'), ('ORR', '1.5'), ('DRR', '8.6'), ('REBR', '5'), ('PER', 12.04), ('VA', '26.2'), ('EWA', '0.9'), ('AGE', '26'), ('HT', '75'), ('WT', '200'), ('SALARY', 3000000)])\n",
      "OrderedDict([('PLAYER', 'Dorell Wright'), ('TEAM', ' POR'), ('POS', 'SF'), ('GP', '68'), ('MPG', '14.5'), ('TS%', '0.524'), ('AST', '14.9'), ('TO', '9.1'), ('USG', '15.6'), ('ORR', '3.2'), ('DRR', '17.5'), ('REBR', '10.5'), ('PER', 11.98), ('VA', '21.7'), ('EWA', '0.7'), ('AGE', '28'), ('HT', '81'), ('WT', '205'), ('SALARY', 3150000)])\n",
      "OrderedDict([('PLAYER', 'Richard Jefferson'), ('TEAM', ' UTAH'), ('POS', 'SF'), ('GP', '82'), ('MPG', '27'), ('TS%', '0.573'), ('AST', '13.7'), ('TO', '9.9'), ('USG', '16.1'), ('ORR', '0.9'), ('DRR', '10.8'), ('REBR', '5.7'), ('PER', 11.88), ('VA', '45.7'), ('EWA', '1.5'), ('AGE', '34'), ('HT', '79'), ('WT', '234'), ('SALARY', 915243)])\n",
      "OrderedDict([('PLAYER', 'Mo Williams'), ('TEAM', ' POR'), ('POS', 'PG'), ('GP', '74'), ('MPG', '24.8'), ('TS%', '0.507'), ('AST', '27.2'), ('TO', '12.6'), ('USG', '20.9'), ('ORR', '2.5'), ('DRR', '6.4'), ('REBR', '4.5'), ('PER', 11.87), ('VA', '23.7'), ('EWA', '0.8'), ('AGE', '31'), ('HT', '73'), ('WT', '195'), ('SALARY', 3750000)])\n",
      "OrderedDict([('PLAYER', 'Nick Collison'), ('TEAM', ' OKC'), ('POS', 'PF'), ('GP', '81'), ('MPG', '16.7'), ('TS%', '0.599'), ('AST', '22.8'), ('TO', '15.5'), ('USG', '11.3'), ('ORR', '10.2'), ('DRR', '14.1'), ('REBR', '12.2'), ('PER', 11.84), ('VA', '6.9'), ('EWA', '0.2'), ('AGE', '33'), ('HT', '82'), ('WT', '255'), ('SALARY', 2242003)])\n",
      "OrderedDict([('PLAYER', 'Ish Smith'), ('TEAM', ' PHX'), ('POS', 'PG'), ('GP', '70'), ('MPG', '14.4'), ('TS%', '0.438'), ('AST', '33'), ('TO', '12'), ('USG', '16.5'), ('ORR', '3.5'), ('DRR', '10.9'), ('REBR', '7.2'), ('PER', 11.71), ('VA', '10.7'), ('EWA', '0.4'), ('AGE', '26'), ('HT', '73'), ('WT', '175'), ('SALARY', 915243)])\n",
      "OrderedDict([('PLAYER', 'J.J. Barea'), ('TEAM', ' MIN'), ('POS', 'PG'), ('GP', '79'), ('MPG', '18.6'), ('TS%', '0.471'), ('AST', '26.9'), ('TO', '11.1'), ('USG', '24.3'), ('ORR', '1.2'), ('DRR', '10.5'), ('REBR', '5.7'), ('PER', 11.68), ('VA', '15'), ('EWA', '0.5'), ('AGE', '30'), ('HT', '73'), ('WT', '178'), ('SALARY', 4519500)])\n",
      "OrderedDict([('PLAYER', 'Jarrett Jack'), ('TEAM', ' CLE'), ('POS', 'PG'), ('GP', '80'), ('MPG', '28.2'), ('TS%', '0.498'), ('AST', '26.5'), ('TO', '10.9'), ('USG', '18'), ('ORR', '1.1'), ('DRR', '10.3'), ('REBR', '5.6'), ('PER', 11.57), ('VA', '19'), ('EWA', '0.6'), ('AGE', '30'), ('HT', '75'), ('WT', '200'), ('SALARY', 6300000)])\n",
      "OrderedDict([('PLAYER', 'Derrick Williams'), ('TEAM', ' MIN/SAC'), ('POS', 'PF'), ('GP', '78'), ('MPG', '23.3'), ('TS%', '0.524'), ('AST', '7.7'), ('TO', '10.4'), ('USG', '16.1'), ('ORR', '4.3'), ('DRR', '15.8'), ('REBR', '10'), ('PER', 11.53), ('VA', '0.7'), ('EWA', '0'), ('AGE', '23'), ('HT', '80'), ('WT', '240'), ('SALARY', 6331404)])\n",
      "OrderedDict([('PLAYER', 'Kent Bazemore'), ('TEAM', ' GS/LAL'), ('POS', 'SG'), ('GP', '67'), ('MPG', '13.6'), ('TS%', '0.515'), ('AST', '16.2'), ('TO', '14.1'), ('USG', '21.5'), ('ORR', '1.2'), ('DRR', '12.6'), ('REBR', '6.9'), ('PER', 11.28), ('VA', '10.6'), ('EWA', '0.4'), ('AGE', '25'), ('HT', '77'), ('WT', '201'), ('SALARY', 0)])\n",
      "OrderedDict([('PLAYER', 'Matt Bonner'), ('TEAM', ' SA'), ('POS', 'PF'), ('GP', '61'), ('MPG', '11.3'), ('TS%', '0.582'), ('AST', '14.3'), ('TO', '7.4'), ('USG', '11.3'), ('ORR', '2.7'), ('DRR', '17.9'), ('REBR', '10.6'), ('PER', 11.27), ('VA', '-2.4'), ('EWA', '-0.1'), ('AGE', '34'), ('HT', '82'), ('WT', '235'), ('SALARY', 915243)])\n",
      "OrderedDict([('PLAYER', \"E'Twaun Moore\"), ('TEAM', ' ORL'), ('POS', 'PG'), ('GP', '79'), ('MPG', '19.1'), ('TS%', '0.513'), ('AST', '17.2'), ('TO', '8.4'), ('USG', '15.4'), ('ORR', '2.2'), ('DRR', '8.1'), ('REBR', '5.1'), ('PER', 11.18), ('VA', '4.1'), ('EWA', '0.1'), ('AGE', '25'), ('HT', '76'), ('WT', '191'), ('SALARY', 0)])\n",
      "OrderedDict([('PLAYER', 'Jason Thompson'), ('TEAM', ' SAC'), ('POS', 'PF'), ('GP', '82'), ('MPG', '24.5'), ('TS%', '0.523'), ('AST', '7.5'), ('TO', '13.4'), ('USG', '13.3'), ('ORR', '8.5'), ('DRR', '21.3'), ('REBR', '14.8'), ('PER', 11.14), ('VA', '-10.8'), ('EWA', '-0.4'), ('AGE', '28'), ('HT', '83'), ('WT', '250'), ('SALARY', 6037500)])\n",
      "OrderedDict([('PLAYER', 'Wesley Johnson'), ('TEAM', ' LAL'), ('POS', 'SF'), ('GP', '79'), ('MPG', '28.4'), ('TS%', '0.522'), ('AST', '13.8'), ('TO', '10'), ('USG', '13.9'), ('ORR', '3.3'), ('DRR', '13.3'), ('REBR', '8.3'), ('PER', 11.08), ('VA', '19.3'), ('EWA', '0.6'), ('AGE', '27'), ('HT', '79'), ('WT', '215'), ('SALARY', 915243)])\n",
      "OrderedDict([('PLAYER', 'Steve Blake'), ('TEAM', ' GS/LAL'), ('POS', 'PG'), ('GP', '55'), ('MPG', '27.2'), ('TS%', '0.508'), ('AST', '39.3'), ('TO', '13.1'), ('USG', '12.1'), ('ORR', '0.9'), ('DRR', '10.4'), ('REBR', '5.7'), ('PER', 11.01), ('VA', '0.2'), ('EWA', '0'), ('AGE', '34'), ('HT', '75'), ('WT', '172'), ('SALARY', 2077000)])\n",
      "OrderedDict([('PLAYER', 'Danny Granger'), ('TEAM', ' IND/LAC'), ('POS', 'SF'), ('GP', '41'), ('MPG', '20.7'), ('TS%', '0.502'), ('AST', '9.7'), ('TO', '10.9'), ('USG', '18.2'), ('ORR', '4.3'), ('DRR', '12.9'), ('REBR', '8.8'), ('PER', 10.9), ('VA', '5'), ('EWA', '0.2'), ('AGE', '31'), ('HT', '81'), ('WT', '228'), ('SALARY', 2077000)])\n",
      "OrderedDict([('PLAYER', 'Chris Johnson'), ('TEAM', ' BOS'), ('POS', 'SF'), ('GP', '40'), ('MPG', '19.7'), ('TS%', '0.537'), ('AST', '10.8'), ('TO', '7.7'), ('USG', '13.5'), ('ORR', '4.3'), ('DRR', '9.8'), ('REBR', '7'), ('PER', 10.8), ('VA', '3.6'), ('EWA', '0.1'), ('AGE', '24'), ('HT', '78'), ('WT', '201'), ('SALARY', 915243)])\n",
      "OrderedDict([('PLAYER', 'Donatas Motiejunas'), ('TEAM', ' HOU'), ('POS', 'PF'), ('GP', '62'), ('MPG', '15.4'), ('TS%', '0.504'), ('AST', '8.1'), ('TO', '11.6'), ('USG', '16.3'), ('ORR', '7.4'), ('DRR', '18.2'), ('REBR', '13.1'), ('PER', 10.76), ('VA', '-10.5'), ('EWA', '-0.4'), ('AGE', '23'), ('HT', '85'), ('WT', '222'), ('SALARY', 1483920)])\n",
      "OrderedDict([('PLAYER', 'Udonis Haslem'), ('TEAM', ' MIA'), ('POS', 'PF'), ('GP', '46'), ('MPG', '14.2'), ('TS%', '0.523'), ('AST', '6.4'), ('TO', '11.9'), ('USG', '12.3'), ('ORR', '8.4'), ('DRR', '24.7'), ('REBR', '16.8'), ('PER', 10.57), ('VA', '-9.1'), ('EWA', '-0.3'), ('AGE', '34'), ('HT', '80'), ('WT', '235'), ('SALARY', 2732000)])\n",
      "OrderedDict([('PLAYER', 'Thabo Sefolosha'), ('TEAM', ' OKC'), ('POS', 'SG'), ('GP', '61'), ('MPG', '26'), ('TS%', '0.517'), ('AST', '18.1'), ('TO', '10.6'), ('USG', '11.3'), ('ORR', '3.7'), ('DRR', '11.5'), ('REBR', '7.8'), ('PER', 10.42), ('VA', '-2'), ('EWA', '-0.1'), ('AGE', '30'), ('HT', '79'), ('WT', '222'), ('SALARY', 4150000)])\n",
      "OrderedDict([('PLAYER', 'Archie Goodwin'), ('TEAM', ' PHX'), ('POS', 'SG'), ('GP', '52'), ('MPG', '10.3'), ('TS%', '0.507'), ('AST', '7.8'), ('TO', '17.2'), ('USG', '17.8'), ('ORR', '5.3'), ('DRR', '13'), ('REBR', '9.2'), ('PER', 10.34), ('VA', '-1.3'), ('EWA', '0'), ('AGE', '20'), ('HT', '77'), ('WT', '198'), ('SALARY', 1112280)])\n",
      "OrderedDict([('PLAYER', 'Nazr Mohammed'), ('TEAM', ' CHI'), ('POS', 'C'), ('GP', '80'), ('MPG', '7'), ('TS%', '0.445'), ('AST', '10.2'), ('TO', '18.9'), ('USG', '13.5'), ('ORR', '13.6'), ('DRR', '21.7'), ('REBR', '17.7'), ('PER', 10.18), ('VA', '-3.5'), ('EWA', '-0.1'), ('AGE', '36'), ('HT', '82'), ('WT', '250'), ('SALARY', 0)])\n",
      "OrderedDict([('PLAYER', 'Quincy Acy'), ('TEAM', ' SAC/TOR'), ('POS', 'SF'), ('GP', '63'), ('MPG', '13.4'), ('TS%', '0.52'), ('AST', '12.6'), ('TO', '13.5'), ('USG', '9.3'), ('ORR', '9.5'), ('DRR', '19.5'), ('REBR', '14.4'), ('PER', 10.14), ('VA', '-4.5'), ('EWA', '-0.2'), ('AGE', '23'), ('HT', '79'), ('WT', '225'), ('SALARY', 915243)])\n",
      "OrderedDict([('PLAYER', 'Chuck Hayes'), ('TEAM', ' SAC/TOR'), ('POS', 'PF'), ('GP', '61'), ('MPG', '12.3'), ('TS%', '0.468'), ('AST', '16.7'), ('TO', '15.8'), ('USG', '9.8'), ('ORR', '10.5'), ('DRR', '21.8'), ('REBR', '16.1'), ('PER', 10.04), ('VA', '-16.5'), ('EWA', '-0.5'), ('AGE', '31'), ('HT', '78'), ('WT', '250'), ('SALARY', 5958750)])\n",
      "OrderedDict([('PLAYER', 'Andrew Nicholson'), ('TEAM', ' ORL'), ('POS', 'PF'), ('GP', '76'), ('MPG', '15.4'), ('TS%', '0.489'), ('AST', '4.8'), ('TO', '9.8'), ('USG', '17.3'), ('ORR', '5.1'), ('DRR', '19.5'), ('REBR', '12.3'), ('PER', 9.9), ('VA', '-28.1'), ('EWA', '-0.9'), ('AGE', '24'), ('HT', '81'), ('WT', '250'), ('SALARY', 1545840)])\n",
      "OrderedDict([('PLAYER', 'Ray McCallum'), ('TEAM', ' SAC'), ('POS', 'PG'), ('GP', '45'), ('MPG', '19.9'), ('TS%', '0.439'), ('AST', '25.1'), ('TO', '8.2'), ('USG', '17.7'), ('ORR', '2.2'), ('DRR', '7.8'), ('REBR', '5'), ('PER', 9.74), ('VA', '-16.9'), ('EWA', '-0.6'), ('AGE', '23'), ('HT', '75'), ('WT', '190'), ('SALARY', 816482)])\n",
      "OrderedDict([('PLAYER', 'Robbie Hummel'), ('TEAM', ' MIN'), ('POS', 'SF'), ('GP', '53'), ('MPG', '12.4'), ('TS%', '0.492'), ('AST', '10.6'), ('TO', '4.6'), ('USG', '11.9'), ('ORR', '5.7'), ('DRR', '16.6'), ('REBR', '11'), ('PER', 9.67), ('VA', '-8.1'), ('EWA', '-0.3'), ('AGE', '25'), ('HT', '80'), ('WT', '220'), ('SALARY', 880000)])\n",
      "OrderedDict([('PLAYER', 'Shawne Williams'), ('TEAM', ' LAL'), ('POS', 'SF'), ('GP', '36'), ('MPG', '20.9'), ('TS%', '0.503'), ('AST', '11.9'), ('TO', '8.3'), ('USG', '11.8'), ('ORR', '3.6'), ('DRR', '20.2'), ('REBR', '11.9'), ('PER', 9.51), ('VA', '0'), ('EWA', '0'), ('AGE', '28'), ('HT', '81'), ('WT', '230'), ('SALARY', 1227985)])\n",
      "OrderedDict([('PLAYER', 'Alan Anderson'), ('TEAM', ' BKN'), ('POS', 'SF'), ('GP', '78'), ('MPG', '22.7'), ('TS%', '0.525'), ('AST', '11.9'), ('TO', '9.1'), ('USG', '14.5'), ('ORR', '2.7'), ('DRR', '9.1'), ('REBR', '5.9'), ('PER', 9.5), ('VA', '-26.4'), ('EWA', '-0.9'), ('AGE', '31'), ('HT', '78'), ('WT', '220'), ('SALARY', 1276061)])\n",
      "OrderedDict([('PLAYER', 'Darrell Arthur'), ('TEAM', ' DEN'), ('POS', 'PF'), ('GP', '68'), ('MPG', '17.1'), ('TS%', '0.459'), ('AST', '11'), ('TO', '10.4'), ('USG', '17'), ('ORR', '4.8'), ('DRR', '14.7'), ('REBR', '9.8'), ('PER', 9.41), ('VA', '-36.3'), ('EWA', '-1.2'), ('AGE', '26'), ('HT', '81'), ('WT', '235'), ('SALARY', 3457149)])\n",
      "OrderedDict([('PLAYER', 'Toney Douglas'), ('TEAM', ' GS/MIA'), ('POS', 'PG'), ('GP', '51'), ('MPG', '13.2'), ('TS%', '0.493'), ('AST', '22.2'), ('TO', '11.1'), ('USG', '16.5'), ('ORR', '3.3'), ('DRR', '11.8'), ('REBR', '7.6'), ('PER', 9.2), ('VA', '-18.1'), ('EWA', '-0.6'), ('AGE', '28'), ('HT', '74'), ('WT', '195'), ('SALARY', 0)])\n",
      "OrderedDict([('PLAYER', 'Luke Ridnour'), ('TEAM', ' MIL/CHA'), ('POS', 'PG'), ('GP', '61'), ('MPG', '18.7'), ('TS%', '0.452'), ('AST', '30.3'), ('TO', '11.4'), ('USG', '16.8'), ('ORR', '2.2'), ('DRR', '7.6'), ('REBR', '4.8'), ('PER', 9.01), ('VA', '-33.9'), ('EWA', '-1.1'), ('AGE', '33'), ('HT', '74'), ('WT', '175'), ('SALARY', 2750000)])\n",
      "OrderedDict([('PLAYER', 'Norris Cole'), ('TEAM', ' MIA'), ('POS', 'PG'), ('GP', '82'), ('MPG', '24.6'), ('TS%', '0.497'), ('AST', '27.4'), ('TO', '14'), ('USG', '15.2'), ('ORR', '1.1'), ('DRR', '8.6'), ('REBR', '5'), ('PER', 8.8), ('VA', '-66'), ('EWA', '-2.2'), ('AGE', '25'), ('HT', '74'), ('WT', '175'), ('SALARY', 2038206)])\n",
      "OrderedDict([('PLAYER', 'Elliot Williams'), ('TEAM', ' PHI'), ('POS', 'SG'), ('GP', '67'), ('MPG', '17.3'), ('TS%', '0.519'), ('AST', '13.6'), ('TO', '12.8'), ('USG', '15.8'), ('ORR', '2.7'), ('DRR', '9.7'), ('REBR', '6.1'), ('PER', 8.71), ('VA', '-31'), ('EWA', '-1'), ('AGE', '25'), ('HT', '77'), ('WT', '180'), ('SALARY', 981084)])\n",
      "OrderedDict([('PLAYER', 'Quincy Miller'), ('TEAM', ' DEN'), ('POS', 'SF'), ('GP', '52'), ('MPG', '15.2'), ('TS%', '0.459'), ('AST', '7.3'), ('TO', '13.6'), ('USG', '16.3'), ('ORR', '4.9'), ('DRR', '15.2'), ('REBR', '10.1'), ('PER', 8.62), ('VA', '-22.1'), ('EWA', '-0.7'), ('AGE', '21'), ('HT', '81'), ('WT', '210'), ('SALARY', 915243)])\n",
      "OrderedDict([('PLAYER', 'Tayshaun Prince'), ('TEAM', ' MEM'), ('POS', 'SF'), ('GP', '76'), ('MPG', '25.6'), ('TS%', '0.438'), ('AST', '17.5'), ('TO', '6'), ('USG', '12.8'), ('ORR', '1.9'), ('DRR', '12.3'), ('REBR', '7.1'), ('PER', 8.18), ('VA', '-67.4'), ('EWA', '-2.2'), ('AGE', '34'), ('HT', '81'), ('WT', '215'), ('SALARY', 7707865)])\n",
      "OrderedDict([('PLAYER', 'Garrett Temple'), ('TEAM', ' WSH'), ('POS', 'SG'), ('GP', '75'), ('MPG', '8.5'), ('TS%', '0.431'), ('AST', '26.3'), ('TO', '15.3'), ('USG', '14.3'), ('ORR', '3.8'), ('DRR', '8.7'), ('REBR', '6.2'), ('PER', 7.81), ('VA', '-25.6'), ('EWA', '-0.9'), ('AGE', '28'), ('HT', '78'), ('WT', '195'), ('SALARY', 981084)])\n",
      "OrderedDict([('PLAYER', 'Ekpe Udoh'), ('TEAM', ' MIL'), ('POS', 'PF'), ('GP', '42'), ('MPG', '19.1'), ('TS%', '0.44'), ('AST', '13.3'), ('TO', '16.3'), ('USG', '10.8'), ('ORR', '8.4'), ('DRR', '12.8'), ('REBR', '10.5'), ('PER', 7.62), ('VA', '-46.5'), ('EWA', '-1.6'), ('AGE', '27'), ('HT', '82'), ('WT', '245'), ('SALARY', 0)])\n",
      "OrderedDict([('PLAYER', 'Jason Terry'), ('TEAM', ' BKN'), ('POS', 'SG'), ('GP', '35'), ('MPG', '16.3'), ('TS%', '0.501'), ('AST', '23.2'), ('TO', '11.2'), ('USG', '14.7'), ('ORR', '0.8'), ('DRR', '6.9'), ('REBR', '3.9'), ('PER', 7.48), ('VA', '-25.7'), ('EWA', '-0.9'), ('AGE', '36'), ('HT', '74'), ('WT', '180'), ('SALARY', 5850313)])\n",
      "OrderedDict([('PLAYER', 'Anthony Bennett'), ('TEAM', ' CLE'), ('POS', 'SF'), ('GP', '52'), ('MPG', '12.8'), ('TS%', '0.425'), ('AST', '5.3'), ('TO', '14.7'), ('USG', '18.7'), ('ORR', '8.1'), ('DRR', '18.4'), ('REBR', '13.1'), ('PER', 6.95), ('VA', '-35.1'), ('EWA', '-1.2'), ('AGE', '21'), ('HT', '80'), ('WT', '259'), ('SALARY', 5563920)])\n",
      "OrderedDict([('PLAYER', 'Jeff Taylor'), ('TEAM', ' CHA'), ('POS', 'SF'), ('GP', '26'), ('MPG', '24.2'), ('TS%', '0.436'), ('AST', '7.7'), ('TO', '8.8'), ('USG', '17.5'), ('ORR', '2.7'), ('DRR', '8.1'), ('REBR', '5.4'), ('PER', 5.97), ('VA', '-42.5'), ('EWA', '-1.4'), ('AGE', '25'), ('HT', '79'), ('WT', '225'), ('SALARY', 915243)])\n",
      "OrderedDict([('PLAYER', 'John Lucas III'), ('TEAM', ' UTAH'), ('POS', 'PG'), ('GP', '42'), ('MPG', '14.1'), ('TS%', '0.403'), ('AST', '16.1'), ('TO', '8.4'), ('USG', '16.2'), ('ORR', '2.3'), ('DRR', '5.4'), ('REBR', '3.8'), ('PER', 5.23), ('VA', '-50.9'), ('EWA', '-1.7'), ('AGE', '31'), ('HT', '71'), ('WT', '166'), ('SALARY', 1600000)])\n"
     ]
    }
   ],
   "source": [
    "## Write the Python to print *every* row of the CSV here.\n",
    "for player in x:\n",
    "    print(next(x))"
   ]
  },
  {
   "cell_type": "markdown",
   "metadata": {},
   "source": [
    "## Summary Statistics\n",
    "\n",
    "In this section, you'll use the CSV data to write computations for mean, median, mode, minimum, and maximum. Use Python to access the values in the `SALARY` column."
   ]
  },
  {
   "cell_type": "code",
   "execution_count": 8,
   "metadata": {},
   "outputs": [
    {
     "name": "stdout",
     "output_type": "stream",
     "text": [
      "There are 323 total players.\n",
      "The median salary is 3657500.\n",
      "The minimum salary is 0.\n",
      "The maximum salary is 23410988.\n",
      "The mean salary is 5323345.\n"
     ]
    }
   ],
   "source": [
    "data = list(read_csv('fixtures/nba_players.csv')) #You can put in your own path here.\n",
    "data  = sorted(data, key=itemgetter('SALARY'))\n",
    "\n",
    "total = 0\n",
    "count = 0\n",
    "\n",
    "for row in data:\n",
    "        count += 1\n",
    "        total += row['SALARY']\n",
    "\n",
    "# Total Count\n",
    "print(\"There are {0:d} total players.\".format(count))\n",
    "\n",
    "# Median\n",
    "midway_point = (count)//2 # But what happens if the length of the list is even?\n",
    "median = data[midway_point]['SALARY']  \n",
    "print(\"The median salary is {0:d}.\".format(median))\n",
    "\n",
    "# Minimum\n",
    "minimum = data[0]['SALARY']\n",
    "print(\"The minimum salary is {0:d}.\".format(minimum))\n",
    "\n",
    "# Maximum\n",
    "maximum = data[-1]['SALARY']\n",
    "print(\"The maximum salary is {0:d}.\".format(maximum))\n",
    "\n",
    "# Mean\n",
    "mean = total//(count)\n",
    "print(\"The mean salary is {0:d}.\".format(mean))"
   ]
  },
  {
   "cell_type": "markdown",
   "metadata": {},
   "source": [
    "Nice work! Now... calculating the mode is a bit different. Remember about the [Decorate-Sort-Undecorate](http://www.greenteapress.com/thinkpython/html/thinkpython013.html) pattern that we learned about in ThinkPython? That will work here!"
   ]
  },
  {
   "cell_type": "code",
   "execution_count": 9,
   "metadata": {},
   "outputs": [
    {
     "name": "stdout",
     "output_type": "stream",
     "text": [
      "The mode salary is 0, which appears 24 times.\n"
     ]
    }
   ],
   "source": [
    "frequency = {}\n",
    "\n",
    "for row in data:\n",
    "    if row['SALARY'] not in frequency:\n",
    "        frequency[row['SALARY']] = 1\n",
    "    else:\n",
    "        frequency[row['SALARY']] += 1\n",
    "\n",
    "sort_freq = []\n",
    "for key,val in frequency.items():\n",
    "    sort_freq.append((val,key))\n",
    "sort_freq.sort(reverse = True)\n",
    "\n",
    "mode = sort_freq[0][1]\n",
    "mode_count = sort_freq[0][0]\n",
    "print(\"The mode salary is {0:d}, which appears {1:d} times.\".format(mode,mode_count))"
   ]
  },
  {
   "cell_type": "markdown",
   "metadata": {},
   "source": [
    "The \"DSU\" approach is a little inefficient. Instead of using a dictionary as our data type to solve the mode problem, we could use counter() from the Collections module. [Read more about counter()](https://pymotw.com/3/collections/counter.html) and try it out here:"
   ]
  },
  {
   "cell_type": "code",
   "execution_count": 10,
   "metadata": {},
   "outputs": [
    {
     "name": "stdout",
     "output_type": "stream",
     "text": [
      "[(0, 24), (915243, 23)]\n"
     ]
    }
   ],
   "source": [
    "count = 0\n",
    "total = 0.0\n",
    "freqs = Counter() # Here it is!\n",
    "\n",
    "for row in data:\n",
    "    count += 1\n",
    "    total += row['SALARY']\n",
    "    freqs[row['SALARY']] += 1\n",
    "    \n",
    "mode = freqs.most_common(2)\n",
    "print(mode)"
   ]
  },
  {
   "cell_type": "markdown",
   "metadata": {},
   "source": [
    "#### Putting the pieces together\n",
    "\n",
    "The above summary statistics can actually be computed inside of a single (and elegant!) function. Give it a try!"
   ]
  },
  {
   "cell_type": "code",
   "execution_count": 11,
   "metadata": {
    "collapsed": true
   },
   "outputs": [],
   "source": [
    "def statistics(path):\n",
    "    data  = list(read_csv(path))\n",
    "    data  = sorted(data, key=itemgetter('SALARY'))\n",
    "\n",
    "    count = 0\n",
    "    total = 0.0\n",
    "    freqs = Counter()\n",
    "\n",
    "    for row in data:\n",
    "        count += 1\n",
    "        total += row['SALARY']\n",
    "        freqs[row['SALARY']] += 1\n",
    "\n",
    "    stats = {\n",
    "        'maximum': data[-1]['SALARY'],\n",
    "        'minimum': data[0]['SALARY'],\n",
    "        'median': data[count // 2]['SALARY'], # But what happens if the length of the list is even?\n",
    "        'mode': freqs.most_common(2),\n",
    "        'mean': total // count,\n",
    "    }\n",
    "    \n",
    "    return stats"
   ]
  },
  {
   "cell_type": "code",
   "execution_count": 12,
   "metadata": {},
   "outputs": [
    {
     "name": "stdout",
     "output_type": "stream",
     "text": [
      "{'maximum': 23410988, 'minimum': 0, 'median': 3657500, 'mode': [(0, 24), (915243, 23)], 'mean': 5323345.0}\n"
     ]
    }
   ],
   "source": [
    "print(statistics('./fixtures/nba_players.csv'))"
   ]
  },
  {
   "cell_type": "markdown",
   "metadata": {},
   "source": [
    "Isn't that nice? But we could still make it better. Keep playing with the above function to get it to work more efficiently or to reduce bad data in the computation - e.g. what are all those zero salaries? \n",
    "\n",
    "\n",
    "## Visualization\n",
    "\n",
    "Congratulations if you've made it this far! It's time for the bonus round!\n",
    "\n",
    "You've now had some summary statistics about the salaries of NBA players, but what we're really interested in is the relationship between `SALARY` and the rest of the fields in the data set. The `PER` - Player Efficiency Rating, is an aggregate score of all performance statistics; therefore if we determine the relationship of `PER` to `SALARY`, we might learn a lot about how to model NBA salaries. \n",
    "\n",
    "In order to explore this, let's create a scatter plot of `SALARY` to `PER`, where each point is an NBA player.\n",
    "\n",
    "Visualization is going to require a third party library. You probably already have matplotlib, so that might be the simplest if you're having trouble with installation. If you don't, `pip install` it now! Follow the documentation to create the scatter plot inline in the notebook in the following cells."
   ]
  },
  {
   "cell_type": "code",
   "execution_count": 13,
   "metadata": {},
   "outputs": [
    {
     "data": {
      "image/png": "[encoded data removed]",
      "text/plain": [
       "<matplotlib.figure.Figure at 0x109682198>"
      ]
     },
     "metadata": {},
     "output_type": "display_data"
    }
   ],
   "source": [
    "# Insert your Python to create the visualization here\n",
    "import os\n",
    "import pandas as pd\n",
    "import numpy as np\n",
    "\n",
    "import matplotlib.pyplot as plt\n",
    "%matplotlib inline  \n",
    "\n",
    "def read_data(path):\n",
    "    return pd.DataFrame(pd.read_csv(path))\n",
    "\n",
    "def graph_data(path, xkey='PER', ykey='SALARY'):\n",
    "    data = read_data(path)\n",
    "    xval = data['PER']\n",
    "    yval = data['SALARY']\n",
    "\n",
    "    fig,axe = plt.subplots()\n",
    "    plt.scatter(xval, yval, alpha=0.7)\n",
    "    plt.ylim([-10000, data['SALARY'].max()+500000])\n",
    "\n",
    "    plt.ylabel('salary')\n",
    "    plt.xlabel('player efficiency rating')\n",
    "    plt.title('NBA 2013 Player Efficieny Rating and Salary Correlation')\n",
    "\n",
    "    plt.grid(True)\n",
    "    plt.show()\n",
    "\n",
    "graph_data('fixtures/nba_players.csv') # Or whatever your path is"
   ]
  },
  {
   "cell_type": "markdown",
   "metadata": {},
   "source": [
    "Nice work!! Matplotlib is pretty useful, but also kind of bare bones. Once you're ready to experiment with other libraries and take your visualizations to the next level, check out the following:\n",
    "\n",
    "- Seaborn\n",
    "- Bokeh\n",
    "- Pandas\n",
    "\n",
    "Our favorite is Bokeh - it's interactive!"
   ]
  },
  {
   "cell_type": "code",
   "execution_count": null,
   "metadata": {
    "collapsed": true
   },
   "outputs": [],
   "source": []
  }
 ],
 "metadata": {
  "kernelspec": {
   "display_name": "Python [default]",
   "language": "python",
   "name": "python3"
  },
  "language_info": {
   "codemirror_mode": {
    "name": "ipython",
    "version": 3
   },
   "file_extension": ".py",
   "mimetype": "text/x-python",
   "name": "python",
   "nbconvert_exporter": "python",
   "pygments_lexer": "ipython3",
   "version": "3.5.3"
  }
 },
 "nbformat": 4,
 "nbformat_minor": 1
}
