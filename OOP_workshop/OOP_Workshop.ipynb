{
 "cells": [
  {
   "cell_type": "markdown",
   "metadata": {},
   "source": [
    "# Object-Oriented Python\n",
    "\n",
    "Object-oriented programming (OOP) is a way of writing programs that represent real-world problem spaces (in terms of objects, functions, classes, attributes, methods, and inheritance). As Allen Downey explains in [__Think Python__](http://www.greenteapress.com/thinkpython/html/thinkpython018.html), in object-oriented programming, we shift away from framing the *function* as the active agent and toward seeing the *object* as the active agent.\n",
    "\n",
    "In this workshop, we are going to create a class that represents the rational numbers. This tutorial is adapted from content in Anand Chitipothu's [__Python Practice Book__](http://anandology.com/python-practice-book/index.html). It was created by [Rebecca Bilbro](https://github.com/rebeccabilbro/Tutorials/tree/master/OOP)\n",
    "\n",
    "## Part 1: Classes, methods, modules, and packages.\n",
    "\n",
    "In our first part we will modify the code in this Jupyter notebook by filling in the missing functionality.  We have a `Rationalnumber` class which can be used to make objects of type... `RationalNumber`.  These are basically fractions and we can leverage the built-ins in Python to take two objects of this type and add, multiply, subtract, or divide using traditional math operations such as `+`, `*`, `-`, and `/`.\n",
    "\n",
    "As you add code you can \"execute\" the notebook cell to check your results.\n",
    "\n",
    "It may help to review [built-ins in Python](https://docs.python.org/3.5/library/functions.html) and the [Python data model](https://docs.python.org/3.5/reference/datamodel.html)."
   ]
  },
  {
   "cell_type": "code",
   "execution_count": 1,
   "metadata": {
    "scrolled": true
   },
   "outputs": [
    {
     "name": "stdout",
     "output_type": "stream",
     "text": [
      "The first number is 1/2\n",
      "The second number is 3/2\n",
      "\n",
      "Their sum is 8/4\n",
      "Their product is 3/4\n",
      "Their difference is -4/4\n",
      "Their quotient is 2/6\n"
     ]
    }
   ],
   "source": [
    "class RationalNumber:\n",
    "    \"\"\"\n",
    "    Any number that can be expressed as the quotient or fraction p/q \n",
    "    of two integers, p and q, with the denominator q not equal to zero. \n",
    "    \n",
    "    Since q may be equal to 1, every integer is a rational number.\n",
    "    \"\"\"\n",
    "    \n",
    "    def __init__(self, numerator, denominator=1):\n",
    "        self.n = numerator\n",
    "        self.d = denominator\n",
    "\n",
    "    def __add__(self, other):\n",
    "        '''Addition'''\n",
    "        if not isinstance(other, RationalNumber):\n",
    "            other = RationalNumber(other)\n",
    "\n",
    "        n = self.n * other.d + self.d * other.n\n",
    "        d = self.d * other.d\n",
    "        return RationalNumber(n, d)\n",
    "\n",
    "    def __sub__(self, other):\n",
    "        '''Subtraction'''\n",
    "        if not isinstance(other, RationalNumber):\n",
    "            other = RationalNumber(other)\n",
    "\n",
    "        n1, d1 = self.n, self.d\n",
    "        n2, d2 = other.n, other.d\n",
    "        return RationalNumber(n1*d2 - n2*d1, d1*d2)\n",
    "\n",
    "    def __mul__(self, other):\n",
    "        '''Multiplication'''\n",
    "        if not isinstance(other, RationalNumber):\n",
    "            other = RationalNumber(other)\n",
    "\n",
    "        n1, d1 = self.n, self.d\n",
    "        n2, d2 = other.n, other.d\n",
    "        return RationalNumber(n1*n2, d1*d2)\n",
    "\n",
    "    def __truediv__(self, other):\n",
    "        '''Division'''\n",
    "        if not isinstance(other, RationalNumber):\n",
    "            other = RationalNumber(other)\n",
    "\n",
    "        n1, d1 = self.n, self.d\n",
    "        n2, d2 = other.n, other.d\n",
    "        return RationalNumber(n1*d2, d1*n2)\n",
    "\n",
    "    def __str__(self):\n",
    "        return \"%s/%s\" % (self.n, self.d)\n",
    "\n",
    "    __repr__ = __str__\n",
    "    \n",
    "\n",
    "    \n",
    "# Let's create two RationalNumber variables to represent the values 1/2 and 3/2    \n",
    "x = RationalNumber(1,2)\n",
    "y = RationalNumber(3,2)\n",
    "print (\"The first number is {!s}\".format(x))\n",
    "print (\"The second number is {!s}\\n\".format(y))\n",
    "\n",
    "# Now let's test our math operations\n",
    "print (\"Their sum is {!s}\".format(x+y))\n",
    "print (\"Their product is {!s}\".format(x*y))\n",
    "print (\"Their difference is {!s}\".format(x-y))\n",
    "print (\"Their quotient is {!s}\".format(x/y))"
   ]
  },
  {
   "cell_type": "markdown",
   "metadata": {},
   "source": [
    "(hint)       \n",
    "\n",
    "|Operation      |Method                      |\n",
    "|---------------|----------------------------|\n",
    "|Addition       |(a/b) + (c/d) = (ad + bc)/bd|\n",
    "|Subtraction    |(a/b) - (c/d) = (ad - bc)/bd|\n",
    "|Multiplication |(a/b) x (c/d) = ac/bd       |\n",
    "|Division       |(a/b) / (c/d) = ad/bc       |"
   ]
  },
  {
   "cell_type": "markdown",
   "metadata": {},
   "source": [
    "## Part 2: Modules  (Optional)\n",
    "\n",
    "Modules are reusable libraries of code and many libraries come standard with Python. You can import them into a program using the *import* statement. For example:"
   ]
  },
  {
   "cell_type": "code",
   "execution_count": 2,
   "metadata": {},
   "outputs": [
    {
     "name": "stdout",
     "output_type": "stream",
     "text": [
      "The first few digits of pi are 3.141593...\n"
     ]
    }
   ],
   "source": [
    "import math\n",
    "print (\"The first few digits of pi are {:f}...\".format(math.pi))"
   ]
  },
  {
   "cell_type": "markdown",
   "metadata": {},
   "source": [
    "The math module implements many functions for complex mathematical operations using floating point values, including logarithms, trigonometric operations, and irrational numbers like &pi;.     \n",
    "\n",
    "#### As an exercise, we'll encapsulate your rational numbers script into a module and then import it.\n",
    "\n",
    "We are now going to continue this lab at the command line.  Save the code you wrote in a new file called `RatNum.py`. Open your terminal and navigate to wherever you have the file saved.    \n",
    "\n",
    "Type:      \n",
    "\n",
    "    python \n",
    "\n",
    "When you're inside the Python interpreter, enter:\n",
    "\n",
    "    from RatNum import RationalNumber\n",
    "    a = RationalNumber(1,3)\n",
    "    b = RationalNumber(2,3)\n",
    "    print (a*b)\n",
    "\n",
    "Success! You have just made a module.    \n",
    "\n",
    "## Packages\n",
    "\n",
    "A package is a directory of modules. For example, we could make a big package by bundling together modules with classes for natural numbers, integers, irrational numbers, and real numbers.  \n",
    "\n",
    "The Python Package Index, or \"PyPI\", is the official third-party software repository for the Python programming language. It is a comprehensive catalog of all open source Python packages and is maintained by the Python Software Foundation. You can download packages from PyPI with the *pip* command in your terminal.\n",
    "\n",
    "PyPI packages are uploaded by individual package maintainers. That means you can write and contribute your own Python packages!\n",
    "\n",
    "#### Now let's turn your module into a package called Mathy.\n",
    "\n",
    "1. Create a folder called Mathy, and add your RatNum.py file to the folder.\n",
    "2. Add an empty file to the folder called \\_\\_init\\_\\_.py.\n",
    "3. Create a third file in that folder called MathQuiz.py that imports RationalNumber from RatNum...    \n",
    "4. ...and uses the RationalNumbers class from RatNum. For example:  \n",
    "\n",
    "```\n",
    "    #MathQuiz.py\n",
    "    \n",
    "    from RatNum import RationalNumber\n",
    "\n",
    "    print \"Pop quiz! Find the sum, product, difference, and quotient for the following rational numbers:\"\n",
    "    \n",
    "    x = RationalNumber(1,3)\n",
    "    y = RationalNumber(2,3)\n",
    "\n",
    "    print (\"The first number is {!s}\".format(x))\n",
    "    print (\"The second number is {!s}\".format(y))\n",
    "    print (\"Their sum is {!s}\".format(x+y))\n",
    "    print (\"Their product is {!s}\".format(x*y))\n",
    "    print (\"Their difference is {!s}\".format(x-y))\n",
    "    print (\"Their quotient is {!s}\".format(x/y))\n",
    "```\n",
    "\n",
    "#### In the terminal, navigate to the Mathy folder. When you are inside the folder, type:\n",
    "\n",
    "    python MathQuiz.py\n",
    "\n",
    "Congrats! You have just made a Python package!    \n",
    "\n",
    "#### Now type:    \n",
    "\n",
    "    python RatNum.py    \n",
    "    \n",
    "What did you get this time? Is it different from the answer you got for the previous command? Why??\n",
    "\n",
    "Once you've completed this exercise, move on to Part 3."
   ]
  },
  {
   "cell_type": "markdown",
   "metadata": {},
   "source": [
    "## Part 3: Inheritance (Optional)\n",
    "\n",
    "Suppose we were to write out another class for another set of numbers, say the integers. What are the rules for addition, subtraction, multiplication, and division? If we can identify shared properties between integers and rational numbers, we could use that information to write a integer class that 'inherits' properties from our rational number class.\n",
    "\n",
    "#### Let's add an integer class to our RatNum.py file that inherits all the properties of our RationalNumber class."
   ]
  },
  {
   "cell_type": "code",
   "execution_count": null,
   "metadata": {},
   "outputs": [],
   "source": [
    "class Integer(RationalNumber):\n",
    "    #What should we add here?\n",
    "    pass"
   ]
  },
  {
   "cell_type": "markdown",
   "metadata": {},
   "source": [
    "#### Now update your \\_\\_name\\_\\_ == \"\\_\\_main\\_\\_\" statement at the end of RatNum.py to read:"
   ]
  },
  {
   "cell_type": "code",
   "execution_count": null,
   "metadata": {},
   "outputs": [],
   "source": [
    "if __name__ == \"__main__\":\n",
    "    q = Integer(5)\n",
    "    r = Integer(6)\n",
    "    print (\"{!s} is an integer expressed as a rational number\".format(q))\n",
    "    print (\"So is {!s}\".format(r))\n",
    "    print (\"When you add them you get {!s}\".format(q+r))\n",
    "    print (\"When you multiply them you get {!s}\".format(q*r))\n",
    "    print (\"When you subtract them you get {!s}\".format(q-r))\n",
    "    print (\"When you divide them you get {!s}\".format(q/r))"
   ]
  },
  {
   "cell_type": "markdown",
   "metadata": {},
   "source": [
    "Did it work?    \n",
    "\n",
    "Nice job!  "
   ]
  }
 ],
 "metadata": {
  "kernelspec": {
   "display_name": "Python 3 (ipykernel)",
   "language": "python",
   "name": "python3"
  },
  "language_info": {
   "codemirror_mode": {
    "name": "ipython",
    "version": 3
   },
   "file_extension": ".py",
   "mimetype": "text/x-python",
   "name": "python",
   "nbconvert_exporter": "python",
   "pygments_lexer": "ipython3",
   "version": "3.10.2"
  }
 },
 "nbformat": 4,
 "nbformat_minor": 1
}
